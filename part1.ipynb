{
 "cells": [
  {
   "cell_type": "markdown",
   "id": "a5e4a182-3248-4315-a04c-70e380cda57e",
   "metadata": {},
   "source": [
    "# PART I - Building a Basic Neural Network - By minazmeh and aramired"
   ]
  },
  {
   "cell_type": "markdown",
   "id": "fe82faaa-200e-4d4a-9596-2a21cce29eda",
   "metadata": {},
   "source": [
    "---"
   ]
  },
  {
   "cell_type": "code",
   "execution_count": 1,
   "id": "25c0642f-2c17-4c38-a9c2-58aa6b809a76",
   "metadata": {
    "tags": []
   },
   "outputs": [],
   "source": [
    "import pandas as pd\n",
    "import numpy as np\n",
    "\n",
    "# we will require this pkg to save the .pkl for the best weights\n",
    "import pickle\n",
    "\n",
    "# below are used for plotting visuals\n",
    "import seaborn as sns\n",
    "import matplotlib.pyplot as plt\n",
    "import warnings"
   ]
  },
  {
   "cell_type": "code",
   "execution_count": 2,
   "id": "5023dfa5-748d-49cf-91ff-fd5bfb25c459",
   "metadata": {
    "tags": []
   },
   "outputs": [],
   "source": [
    "from sklearn.preprocessing import StandardScaler\n",
    "from sklearn.impute import SimpleImputer\n",
    "from sklearn.model_selection import train_test_split\n",
    "import torch\n",
    "import torch.nn as nn\n",
    "import torch.nn.functional as F\n",
    "from torchinfo import summary\n",
    "from torch.utils.data import DataLoader, TensorDataset\n",
    "from sklearn.metrics import precision_recall_fscore_support, confusion_matrix, roc_curve, auc\n",
    "import time "
   ]
  },
  {
   "cell_type": "code",
   "execution_count": 3,
   "id": "ae8ec4e6-d930-4d3a-ba45-e05944455bc2",
   "metadata": {
    "tags": []
   },
   "outputs": [],
   "source": [
    " device = torch.device('cuda' if torch.cuda.is_available() else 'cpu')"
   ]
  },
  {
   "cell_type": "code",
   "execution_count": 4,
   "id": "1bddb94a-371f-4579-98d8-3a4a4e892c86",
   "metadata": {
    "tags": []
   },
   "outputs": [],
   "source": [
    "warnings.filterwarnings(\"ignore\")"
   ]
  },
  {
   "cell_type": "markdown",
   "id": "210a65fe-ebd8-48e3-bfd7-9500982cff76",
   "metadata": {},
   "source": [
    "## STEP I"
   ]
  },
  {
   "cell_type": "markdown",
   "id": "233ef3c5-12fe-428e-960f-d1ab241b5eb1",
   "metadata": {},
   "source": [
    "## 1.1 Read dataset"
   ]
  },
  {
   "cell_type": "code",
   "execution_count": 5,
   "id": "71b6cf76-39e7-46b2-bd8f-293fed7e8023",
   "metadata": {
    "tags": []
   },
   "outputs": [],
   "source": [
    "# read the csv file\n",
    "df = pd.read_csv('datasets/dataset.csv')"
   ]
  },
  {
   "cell_type": "code",
   "execution_count": 6,
   "id": "1e85f420-0d6e-4ea6-b9d7-6a5615b195df",
   "metadata": {
    "tags": []
   },
   "outputs": [
    {
     "data": {
      "text/html": [
       "<div>\n",
       "<style scoped>\n",
       "    .dataframe tbody tr th:only-of-type {\n",
       "        vertical-align: middle;\n",
       "    }\n",
       "\n",
       "    .dataframe tbody tr th {\n",
       "        vertical-align: top;\n",
       "    }\n",
       "\n",
       "    .dataframe thead th {\n",
       "        text-align: right;\n",
       "    }\n",
       "</style>\n",
       "<table border=\"1\" class=\"dataframe\">\n",
       "  <thead>\n",
       "    <tr style=\"text-align: right;\">\n",
       "      <th></th>\n",
       "      <th>f1</th>\n",
       "      <th>f2</th>\n",
       "      <th>f3</th>\n",
       "      <th>f4</th>\n",
       "      <th>f5</th>\n",
       "      <th>f6</th>\n",
       "      <th>f7</th>\n",
       "      <th>target</th>\n",
       "    </tr>\n",
       "  </thead>\n",
       "  <tbody>\n",
       "    <tr>\n",
       "      <th>0</th>\n",
       "      <td>6</td>\n",
       "      <td>148</td>\n",
       "      <td>72</td>\n",
       "      <td>35</td>\n",
       "      <td>0</td>\n",
       "      <td>33.6</td>\n",
       "      <td>0.627</td>\n",
       "      <td>1</td>\n",
       "    </tr>\n",
       "    <tr>\n",
       "      <th>1</th>\n",
       "      <td>1</td>\n",
       "      <td>85</td>\n",
       "      <td>66</td>\n",
       "      <td>29</td>\n",
       "      <td>0</td>\n",
       "      <td>26.6</td>\n",
       "      <td>0.351</td>\n",
       "      <td>0</td>\n",
       "    </tr>\n",
       "    <tr>\n",
       "      <th>2</th>\n",
       "      <td>8</td>\n",
       "      <td>183</td>\n",
       "      <td>64</td>\n",
       "      <td>0</td>\n",
       "      <td>0</td>\n",
       "      <td>23.3</td>\n",
       "      <td>0.672</td>\n",
       "      <td>1</td>\n",
       "    </tr>\n",
       "    <tr>\n",
       "      <th>3</th>\n",
       "      <td>1</td>\n",
       "      <td>89</td>\n",
       "      <td>66</td>\n",
       "      <td>23</td>\n",
       "      <td>94</td>\n",
       "      <td>28.1</td>\n",
       "      <td>0.167</td>\n",
       "      <td>0</td>\n",
       "    </tr>\n",
       "    <tr>\n",
       "      <th>4</th>\n",
       "      <td>0</td>\n",
       "      <td>137</td>\n",
       "      <td>40</td>\n",
       "      <td>35</td>\n",
       "      <td>168</td>\n",
       "      <td>43.1</td>\n",
       "      <td>2.288</td>\n",
       "      <td>1</td>\n",
       "    </tr>\n",
       "    <tr>\n",
       "      <th>...</th>\n",
       "      <td>...</td>\n",
       "      <td>...</td>\n",
       "      <td>...</td>\n",
       "      <td>...</td>\n",
       "      <td>...</td>\n",
       "      <td>...</td>\n",
       "      <td>...</td>\n",
       "      <td>...</td>\n",
       "    </tr>\n",
       "    <tr>\n",
       "      <th>761</th>\n",
       "      <td>9</td>\n",
       "      <td>89</td>\n",
       "      <td>62</td>\n",
       "      <td>0</td>\n",
       "      <td>0</td>\n",
       "      <td>22.5</td>\n",
       "      <td>e</td>\n",
       "      <td>0</td>\n",
       "    </tr>\n",
       "    <tr>\n",
       "      <th>762</th>\n",
       "      <td>10</td>\n",
       "      <td>101</td>\n",
       "      <td>76</td>\n",
       "      <td>48</td>\n",
       "      <td>180</td>\n",
       "      <td>d</td>\n",
       "      <td>0.171</td>\n",
       "      <td>0</td>\n",
       "    </tr>\n",
       "    <tr>\n",
       "      <th>763</th>\n",
       "      <td>2</td>\n",
       "      <td>122</td>\n",
       "      <td>70</td>\n",
       "      <td>27</td>\n",
       "      <td>b</td>\n",
       "      <td>36.8</td>\n",
       "      <td>0.34</td>\n",
       "      <td>0</td>\n",
       "    </tr>\n",
       "    <tr>\n",
       "      <th>764</th>\n",
       "      <td>c</td>\n",
       "      <td>121</td>\n",
       "      <td>72</td>\n",
       "      <td>23</td>\n",
       "      <td>112</td>\n",
       "      <td>26.2</td>\n",
       "      <td>0.245</td>\n",
       "      <td>0</td>\n",
       "    </tr>\n",
       "    <tr>\n",
       "      <th>765</th>\n",
       "      <td>1</td>\n",
       "      <td>126</td>\n",
       "      <td>60</td>\n",
       "      <td>a</td>\n",
       "      <td>0</td>\n",
       "      <td>30.1</td>\n",
       "      <td>0.349</td>\n",
       "      <td>1</td>\n",
       "    </tr>\n",
       "  </tbody>\n",
       "</table>\n",
       "<p>766 rows × 8 columns</p>\n",
       "</div>"
      ],
      "text/plain": [
       "     f1   f2  f3  f4   f5    f6     f7  target\n",
       "0     6  148  72  35    0  33.6  0.627       1\n",
       "1     1   85  66  29    0  26.6  0.351       0\n",
       "2     8  183  64   0    0  23.3  0.672       1\n",
       "3     1   89  66  23   94  28.1  0.167       0\n",
       "4     0  137  40  35  168  43.1  2.288       1\n",
       "..   ..  ...  ..  ..  ...   ...    ...     ...\n",
       "761   9   89  62   0    0  22.5      e       0\n",
       "762  10  101  76  48  180     d  0.171       0\n",
       "763   2  122  70  27    b  36.8   0.34       0\n",
       "764   c  121  72  23  112  26.2  0.245       0\n",
       "765   1  126  60   a    0  30.1  0.349       1\n",
       "\n",
       "[766 rows x 8 columns]"
      ]
     },
     "execution_count": 6,
     "metadata": {},
     "output_type": "execute_result"
    }
   ],
   "source": [
    "df"
   ]
  },
  {
   "cell_type": "markdown",
   "id": "b9582913-ffb1-4f26-8b93-052fbd40364a",
   "metadata": {},
   "source": [
    "# 1.2 Return main stats"
   ]
  },
  {
   "cell_type": "code",
   "execution_count": 7,
   "id": "66dcca69-cc57-4e0f-bb9d-d81ca3e09847",
   "metadata": {
    "tags": []
   },
   "outputs": [
    {
     "data": {
      "text/html": [
       "<div>\n",
       "<style scoped>\n",
       "    .dataframe tbody tr th:only-of-type {\n",
       "        vertical-align: middle;\n",
       "    }\n",
       "\n",
       "    .dataframe tbody tr th {\n",
       "        vertical-align: top;\n",
       "    }\n",
       "\n",
       "    .dataframe thead th {\n",
       "        text-align: right;\n",
       "    }\n",
       "</style>\n",
       "<table border=\"1\" class=\"dataframe\">\n",
       "  <thead>\n",
       "    <tr style=\"text-align: right;\">\n",
       "      <th></th>\n",
       "      <th>f3</th>\n",
       "      <th>target</th>\n",
       "    </tr>\n",
       "  </thead>\n",
       "  <tbody>\n",
       "    <tr>\n",
       "      <th>count</th>\n",
       "      <td>766.000000</td>\n",
       "      <td>766.000000</td>\n",
       "    </tr>\n",
       "    <tr>\n",
       "      <th>mean</th>\n",
       "      <td>69.118799</td>\n",
       "      <td>0.349869</td>\n",
       "    </tr>\n",
       "    <tr>\n",
       "      <th>std</th>\n",
       "      <td>19.376901</td>\n",
       "      <td>0.477240</td>\n",
       "    </tr>\n",
       "    <tr>\n",
       "      <th>min</th>\n",
       "      <td>0.000000</td>\n",
       "      <td>0.000000</td>\n",
       "    </tr>\n",
       "    <tr>\n",
       "      <th>25%</th>\n",
       "      <td>62.500000</td>\n",
       "      <td>0.000000</td>\n",
       "    </tr>\n",
       "    <tr>\n",
       "      <th>50%</th>\n",
       "      <td>72.000000</td>\n",
       "      <td>0.000000</td>\n",
       "    </tr>\n",
       "    <tr>\n",
       "      <th>75%</th>\n",
       "      <td>80.000000</td>\n",
       "      <td>1.000000</td>\n",
       "    </tr>\n",
       "    <tr>\n",
       "      <th>max</th>\n",
       "      <td>122.000000</td>\n",
       "      <td>1.000000</td>\n",
       "    </tr>\n",
       "  </tbody>\n",
       "</table>\n",
       "</div>"
      ],
      "text/plain": [
       "               f3      target\n",
       "count  766.000000  766.000000\n",
       "mean    69.118799    0.349869\n",
       "std     19.376901    0.477240\n",
       "min      0.000000    0.000000\n",
       "25%     62.500000    0.000000\n",
       "50%     72.000000    0.000000\n",
       "75%     80.000000    1.000000\n",
       "max    122.000000    1.000000"
      ]
     },
     "execution_count": 7,
     "metadata": {},
     "output_type": "execute_result"
    }
   ],
   "source": [
    "# basic stats on the df\n",
    "df.describe()"
   ]
  },
  {
   "cell_type": "code",
   "execution_count": 8,
   "id": "890855e5-932a-4e67-9615-2eadb0126ea4",
   "metadata": {
    "tags": []
   },
   "outputs": [
    {
     "data": {
      "text/plain": [
       "f1        object\n",
       "f2        object\n",
       "f3         int64\n",
       "f4        object\n",
       "f5        object\n",
       "f6        object\n",
       "f7        object\n",
       "target     int64\n",
       "dtype: object"
      ]
     },
     "execution_count": 8,
     "metadata": {},
     "output_type": "execute_result"
    }
   ],
   "source": [
    "# we see that not all columns are numeric\n",
    "df.dtypes"
   ]
  },
  {
   "cell_type": "markdown",
   "id": "0e1bfba5-4871-4c58-8f5d-7c85f6d79817",
   "metadata": {},
   "source": [
    "## 1.3 Handle Invalid Entries ( Includes some preprocessing from Step 2 Handling outliers, checking for categorical data etc)"
   ]
  },
  {
   "cell_type": "code",
   "execution_count": 9,
   "id": "731ba277-12e7-493f-83b0-af8e5db37ecc",
   "metadata": {
    "tags": []
   },
   "outputs": [
    {
     "name": "stdout",
     "output_type": "stream",
     "text": [
      "Non-numeric entries detected:\n",
      "{'f1': array(['c'], dtype=object), 'f2': array(['f'], dtype=object), 'f4': array(['a'], dtype=object), 'f5': array(['b'], dtype=object), 'f6': array(['d'], dtype=object), 'f7': array(['e'], dtype=object)}\n"
     ]
    }
   ],
   "source": [
    "# figure out the non numeric entries in our df\n",
    "invalid_entries = {}\n",
    "\n",
    "for col in df.columns:\n",
    "    if df[col].dtype == 'object':\n",
    "        invalid_values = df[col][pd.to_numeric(df[col], errors='coerce').isna()].unique()\n",
    "        if len(invalid_values) > 0:\n",
    "            invalid_entries[col] = invalid_values\n",
    "\n",
    "print(\"Non-numeric entries detected:\")\n",
    "print(invalid_entries)"
   ]
  },
  {
   "cell_type": "code",
   "execution_count": 10,
   "id": "b9cdea11-6792-493d-af62-314c7a45f54f",
   "metadata": {
    "tags": []
   },
   "outputs": [],
   "source": [
    "# replace them with NA\n",
    "df = df.replace(['a', 'b', 'c', 'd', 'e', 'f'], pd.NA)\n"
   ]
  },
  {
   "cell_type": "code",
   "execution_count": 11,
   "id": "c1783754-501e-4683-a135-b4e8d7454607",
   "metadata": {
    "tags": []
   },
   "outputs": [],
   "source": [
    "# make the cols numeric\n",
    "df['f1'] = pd.to_numeric(df['f1'], errors='coerce')\n",
    "df['f2'] = pd.to_numeric(df['f2'], errors='coerce')\n",
    "df['f4'] = pd.to_numeric(df['f4'], errors='coerce')\n",
    "df['f5'] = pd.to_numeric(df['f5'], errors='coerce')\n",
    "df['f6'] = pd.to_numeric(df['f6'], errors='coerce')\n",
    "df['f7'] = pd.to_numeric(df['f7'], errors='coerce')"
   ]
  },
  {
   "cell_type": "code",
   "execution_count": 12,
   "id": "c87761d9-e8cb-41f1-8b9f-950e140fac3a",
   "metadata": {
    "tags": []
   },
   "outputs": [
    {
     "data": {
      "text/html": [
       "<div>\n",
       "<style scoped>\n",
       "    .dataframe tbody tr th:only-of-type {\n",
       "        vertical-align: middle;\n",
       "    }\n",
       "\n",
       "    .dataframe tbody tr th {\n",
       "        vertical-align: top;\n",
       "    }\n",
       "\n",
       "    .dataframe thead th {\n",
       "        text-align: right;\n",
       "    }\n",
       "</style>\n",
       "<table border=\"1\" class=\"dataframe\">\n",
       "  <thead>\n",
       "    <tr style=\"text-align: right;\">\n",
       "      <th></th>\n",
       "      <th>f1</th>\n",
       "      <th>f2</th>\n",
       "      <th>f3</th>\n",
       "      <th>f4</th>\n",
       "      <th>f5</th>\n",
       "      <th>f6</th>\n",
       "      <th>f7</th>\n",
       "      <th>target</th>\n",
       "    </tr>\n",
       "  </thead>\n",
       "  <tbody>\n",
       "    <tr>\n",
       "      <th>0</th>\n",
       "      <td>6.0</td>\n",
       "      <td>148.0</td>\n",
       "      <td>72</td>\n",
       "      <td>35.0</td>\n",
       "      <td>0.0</td>\n",
       "      <td>33.6</td>\n",
       "      <td>0.627</td>\n",
       "      <td>1</td>\n",
       "    </tr>\n",
       "    <tr>\n",
       "      <th>1</th>\n",
       "      <td>1.0</td>\n",
       "      <td>85.0</td>\n",
       "      <td>66</td>\n",
       "      <td>29.0</td>\n",
       "      <td>0.0</td>\n",
       "      <td>26.6</td>\n",
       "      <td>0.351</td>\n",
       "      <td>0</td>\n",
       "    </tr>\n",
       "    <tr>\n",
       "      <th>2</th>\n",
       "      <td>8.0</td>\n",
       "      <td>183.0</td>\n",
       "      <td>64</td>\n",
       "      <td>0.0</td>\n",
       "      <td>0.0</td>\n",
       "      <td>23.3</td>\n",
       "      <td>0.672</td>\n",
       "      <td>1</td>\n",
       "    </tr>\n",
       "    <tr>\n",
       "      <th>3</th>\n",
       "      <td>1.0</td>\n",
       "      <td>89.0</td>\n",
       "      <td>66</td>\n",
       "      <td>23.0</td>\n",
       "      <td>94.0</td>\n",
       "      <td>28.1</td>\n",
       "      <td>0.167</td>\n",
       "      <td>0</td>\n",
       "    </tr>\n",
       "    <tr>\n",
       "      <th>4</th>\n",
       "      <td>0.0</td>\n",
       "      <td>137.0</td>\n",
       "      <td>40</td>\n",
       "      <td>35.0</td>\n",
       "      <td>168.0</td>\n",
       "      <td>43.1</td>\n",
       "      <td>2.288</td>\n",
       "      <td>1</td>\n",
       "    </tr>\n",
       "    <tr>\n",
       "      <th>...</th>\n",
       "      <td>...</td>\n",
       "      <td>...</td>\n",
       "      <td>...</td>\n",
       "      <td>...</td>\n",
       "      <td>...</td>\n",
       "      <td>...</td>\n",
       "      <td>...</td>\n",
       "      <td>...</td>\n",
       "    </tr>\n",
       "    <tr>\n",
       "      <th>761</th>\n",
       "      <td>9.0</td>\n",
       "      <td>89.0</td>\n",
       "      <td>62</td>\n",
       "      <td>0.0</td>\n",
       "      <td>0.0</td>\n",
       "      <td>22.5</td>\n",
       "      <td>NaN</td>\n",
       "      <td>0</td>\n",
       "    </tr>\n",
       "    <tr>\n",
       "      <th>762</th>\n",
       "      <td>10.0</td>\n",
       "      <td>101.0</td>\n",
       "      <td>76</td>\n",
       "      <td>48.0</td>\n",
       "      <td>180.0</td>\n",
       "      <td>NaN</td>\n",
       "      <td>0.171</td>\n",
       "      <td>0</td>\n",
       "    </tr>\n",
       "    <tr>\n",
       "      <th>763</th>\n",
       "      <td>2.0</td>\n",
       "      <td>122.0</td>\n",
       "      <td>70</td>\n",
       "      <td>27.0</td>\n",
       "      <td>NaN</td>\n",
       "      <td>36.8</td>\n",
       "      <td>0.340</td>\n",
       "      <td>0</td>\n",
       "    </tr>\n",
       "    <tr>\n",
       "      <th>764</th>\n",
       "      <td>NaN</td>\n",
       "      <td>121.0</td>\n",
       "      <td>72</td>\n",
       "      <td>23.0</td>\n",
       "      <td>112.0</td>\n",
       "      <td>26.2</td>\n",
       "      <td>0.245</td>\n",
       "      <td>0</td>\n",
       "    </tr>\n",
       "    <tr>\n",
       "      <th>765</th>\n",
       "      <td>1.0</td>\n",
       "      <td>126.0</td>\n",
       "      <td>60</td>\n",
       "      <td>NaN</td>\n",
       "      <td>0.0</td>\n",
       "      <td>30.1</td>\n",
       "      <td>0.349</td>\n",
       "      <td>1</td>\n",
       "    </tr>\n",
       "  </tbody>\n",
       "</table>\n",
       "<p>766 rows × 8 columns</p>\n",
       "</div>"
      ],
      "text/plain": [
       "       f1     f2  f3    f4     f5    f6     f7  target\n",
       "0     6.0  148.0  72  35.0    0.0  33.6  0.627       1\n",
       "1     1.0   85.0  66  29.0    0.0  26.6  0.351       0\n",
       "2     8.0  183.0  64   0.0    0.0  23.3  0.672       1\n",
       "3     1.0   89.0  66  23.0   94.0  28.1  0.167       0\n",
       "4     0.0  137.0  40  35.0  168.0  43.1  2.288       1\n",
       "..    ...    ...  ..   ...    ...   ...    ...     ...\n",
       "761   9.0   89.0  62   0.0    0.0  22.5    NaN       0\n",
       "762  10.0  101.0  76  48.0  180.0   NaN  0.171       0\n",
       "763   2.0  122.0  70  27.0    NaN  36.8  0.340       0\n",
       "764   NaN  121.0  72  23.0  112.0  26.2  0.245       0\n",
       "765   1.0  126.0  60   NaN    0.0  30.1  0.349       1\n",
       "\n",
       "[766 rows x 8 columns]"
      ]
     },
     "execution_count": 12,
     "metadata": {},
     "output_type": "execute_result"
    }
   ],
   "source": [
    "df"
   ]
  },
  {
   "cell_type": "code",
   "execution_count": 13,
   "id": "5a3d45a0-d8ec-42f4-ab2a-0a8c835a5170",
   "metadata": {
    "tags": []
   },
   "outputs": [
    {
     "name": "stdout",
     "output_type": "stream",
     "text": [
      "Totol NAN Values in each feature\n",
      " f1        1\n",
      "f2        1\n",
      "f3        0\n",
      "f4        1\n",
      "f5        1\n",
      "f6        1\n",
      "f7        1\n",
      "target    0\n",
      "dtype: int64\n"
     ]
    }
   ],
   "source": [
    "# find out the NAN values in each col, We will impute them with mean using simple imputer in Step 2\n",
    "print(\"Totol NAN Values in each feature\\n\", df.isna().sum())\n"
   ]
  },
  {
   "cell_type": "markdown",
   "id": "bf7317f9-c22b-4f1d-9afc-c3d451b77749",
   "metadata": {},
   "source": [
    "## Also Includes Steps from Part1 Step2"
   ]
  },
  {
   "cell_type": "code",
   "execution_count": 14,
   "id": "f988914d-79fd-4105-942d-563381aa109b",
   "metadata": {
    "tags": []
   },
   "outputs": [
    {
     "name": "stdout",
     "output_type": "stream",
     "text": [
      "Unique values in the target [1 0]\n"
     ]
    }
   ],
   "source": [
    "# do we needd to preprocess our target for categorical cleaning?\n",
    "\n",
    "print(f\"Unique values in the target\", df['target'].unique())"
   ]
  },
  {
   "cell_type": "code",
   "execution_count": 15,
   "id": "0365676d-11a0-401b-ab8d-3a3edaa7539e",
   "metadata": {
    "tags": []
   },
   "outputs": [],
   "source": [
    "# we doont need to preprocess traget col theres only 2 values (binary 0 and 1)"
   ]
  },
  {
   "cell_type": "code",
   "execution_count": 16,
   "id": "ce8a1125-74c8-41eb-be74-8d94cdb9e58b",
   "metadata": {
    "tags": []
   },
   "outputs": [
    {
     "name": "stdout",
     "output_type": "stream",
     "text": [
      "F1 outliers:  4\n",
      "F2 outliers:  5\n",
      "F3 outliers:  45\n",
      "F4 outliers:  1\n",
      "F5 outliers:  34\n",
      "F6 outliers:  19\n",
      "F7 outliers:  29\n"
     ]
    }
   ],
   "source": [
    "# REusing code from A1\n",
    "def identify_outliers(df, column):\n",
    "    \n",
    "    Q1 = df[column].quantile(0.25)\n",
    "    Q3 = df[column].quantile(0.75)\n",
    "    \n",
    "    IQR = Q3 - Q1 #calculate IQR by Q3-Q1\n",
    "    \n",
    "    lower_bound = Q1 - 1.5 * IQR\n",
    "    upper_bound = Q3 + 1.5 * IQR\n",
    "    \n",
    "    return df[(df[column] < lower_bound) | (df[column] > upper_bound)]\n",
    "\n",
    "outliers_f1 = identify_outliers(df,'f1')\n",
    "outliers_f2 = identify_outliers(df,'f2')\n",
    "outliers_f3 = identify_outliers(df,'f3')\n",
    "outliers_f4 = identify_outliers(df,'f4')\n",
    "outliers_f5 = identify_outliers(df,'f5')\n",
    "outliers_f6 = identify_outliers(df,'f6')\n",
    "outliers_f7 = identify_outliers(df,'f7')\n",
    "\n",
    "\n",
    "print(\"F1 outliers: \", len(outliers_f1))\n",
    "print(\"F2 outliers: \", len(outliers_f2))\n",
    "print(\"F3 outliers: \", len(outliers_f3))\n",
    "print(\"F4 outliers: \", len(outliers_f4))\n",
    "print(\"F5 outliers: \", len(outliers_f5))\n",
    "print(\"F6 outliers: \", len(outliers_f6))\n",
    "print(\"F7 outliers: \", len(outliers_f7))"
   ]
  },
  {
   "cell_type": "code",
   "execution_count": 17,
   "id": "e7251a03-bf1c-4a2f-94c8-dda58e892e61",
   "metadata": {
    "tags": []
   },
   "outputs": [],
   "source": [
    "df = df[~df['f1'].isin(outliers_f1['f1'])]\n",
    "df = df[~df['f2'].isin(outliers_f2['f2'])]\n",
    "df = df[~df['f4'].isin(outliers_f4['f4'])]"
   ]
  },
  {
   "cell_type": "code",
   "execution_count": 18,
   "id": "6886586c-8366-4bf7-a5f1-968ba0a446a7",
   "metadata": {
    "tags": []
   },
   "outputs": [
    {
     "name": "stdout",
     "output_type": "stream",
     "text": [
      "F1 outliers:  0\n",
      "F2 outliers:  0\n",
      "F4 outliers:  0\n"
     ]
    }
   ],
   "source": [
    "outliers_f1 = identify_outliers(df,'f1')\n",
    "outliers_f2 = identify_outliers(df,'f2')\n",
    "outliers_f4 = identify_outliers(df,'f4')\n",
    "print(\"F1 outliers: \", len(outliers_f1))\n",
    "print(\"F2 outliers: \", len(outliers_f2))\n",
    "print(\"F4 outliers: \", len(outliers_f4))"
   ]
  },
  {
   "cell_type": "code",
   "execution_count": 19,
   "id": "cc3080ef-c8ef-4714-bdc0-8ab28687c327",
   "metadata": {
    "tags": []
   },
   "outputs": [
    {
     "name": "stdout",
     "output_type": "stream",
     "text": [
      "F3 outliers after capping:  0\n",
      "F5 outliers after capping:  0\n",
      "F6 outliers after capping:  0\n",
      "F7 outliers after capping:  0\n"
     ]
    }
   ],
   "source": [
    "def cap_outliers(df, column):\n",
    "    Q1 = df[column].quantile(0.25)\n",
    "    Q3 = df[column].quantile(0.75)\n",
    "    IQR = Q3 - Q1  \n",
    "    lower_bound = Q1 - 1.5 * IQR\n",
    "    upper_bound = Q3 + 1.5 * IQR\n",
    "    df[column] = np.where(df[column] < lower_bound, lower_bound, df[column])\n",
    "    df[column] = np.where(df[column] > upper_bound, upper_bound, df[column])\n",
    "    return df\n",
    "\n",
    "df = cap_outliers(df, 'f3')\n",
    "df = cap_outliers(df, 'f5')\n",
    "df = cap_outliers(df, 'f6')\n",
    "df = cap_outliers(df, 'f7')\n",
    "\n",
    "outliers_f3 = identify_outliers(df, 'f3')\n",
    "outliers_f5 = identify_outliers(df, 'f5')\n",
    "outliers_f6 = identify_outliers(df, 'f6')\n",
    "outliers_f7 = identify_outliers(df, 'f7')\n",
    "\n",
    "print(\"F3 outliers after capping: \", len(outliers_f3))\n",
    "print(\"F5 outliers after capping: \", len(outliers_f5))\n",
    "print(\"F6 outliers after capping: \", len(outliers_f6))\n",
    "print(\"F7 outliers after capping: \", len(outliers_f7))\n"
   ]
  },
  {
   "cell_type": "markdown",
   "id": "1461ca96-60ff-4af2-a164-f56bd11cc9d7",
   "metadata": {},
   "source": [
    "## 1.4 Three Visualiztions"
   ]
  },
  {
   "cell_type": "code",
   "execution_count": 20,
   "id": "eafda169-2040-4f8b-9111-8ae07a952543",
   "metadata": {
    "tags": []
   },
   "outputs": [
    {
     "data": {
      "image/png": "[encoded data removed]",
      "text/plain": [
       "<Figure size 800x600 with 1 Axes>"
      ]
     },
     "metadata": {},
     "output_type": "display_data"
    }
   ],
   "source": [
    "# F2 histogram\n",
    "plt.figure(figsize=(8, 6))\n",
    "plt.hist(df['f2'].dropna(), bins=20, color='blue', edgecolor='black')\n",
    "plt.title('Distribution of f2')\n",
    "plt.xlabel('f2 values')\n",
    "plt.ylabel('Frequency')\n",
    "plt.show()\n"
   ]
  },
  {
   "cell_type": "code",
   "execution_count": 21,
   "id": "3a49772c-17d0-4c03-9e8a-fde73eb81948",
   "metadata": {
    "tags": []
   },
   "outputs": [
    {
     "data": {
      "image/png": "[encoded data removed]",
      "text/plain": [
       "<Figure size 800x600 with 1 Axes>"
      ]
     },
     "metadata": {},
     "output_type": "display_data"
    }
   ],
   "source": [
    "# f3 and f6 scatter plot\n",
    "plt.figure(figsize=(8, 6))\n",
    "plt.scatter(df['f2'], df['f6'], color='green')\n",
    "plt.title('Scatter plot of f2 vs f6')\n",
    "plt.xlabel('f3')\n",
    "plt.ylabel('f6')\n",
    "plt.show()\n",
    "\n"
   ]
  },
  {
   "cell_type": "code",
   "execution_count": 22,
   "id": "e3c1e37e-fc79-4949-8b47-ef9da5897493",
   "metadata": {
    "tags": []
   },
   "outputs": [
    {
     "data": {
      "text/plain": [
       "<Figure size 800x600 with 0 Axes>"
      ]
     },
     "metadata": {},
     "output_type": "display_data"
    },
    {
     "data": {
      "image/png": "[encoded data removed]",
      "text/plain": [
       "<Figure size 640x480 with 1 Axes>"
      ]
     },
     "metadata": {},
     "output_type": "display_data"
    }
   ],
   "source": [
    "# f1 boxplot\n",
    "plt.figure(figsize=(8, 6))\n",
    "df.boxplot(column='f1', by='target', grid=False)\n",
    "plt.title('Boxplot of f1 by Target')\n",
    "plt.suptitle('')\n",
    "plt.xlabel('Target')\n",
    "plt.ylabel('f1 values')\n",
    "plt.show()"
   ]
  },
  {
   "cell_type": "markdown",
   "id": "85cb2c4d-e0a7-4e16-86f6-c2df27c84f0e",
   "metadata": {},
   "source": [
    "---"
   ]
  },
  {
   "cell_type": "markdown",
   "id": "3b0d2759-0aac-4cf2-b76f-b525d36025ab",
   "metadata": {},
   "source": [
    "---"
   ]
  },
  {
   "cell_type": "markdown",
   "id": "83562496-52fc-4e47-a128-ce520493d9da",
   "metadata": {},
   "source": [
    "# STEP 2"
   ]
  },
  {
   "cell_type": "code",
   "execution_count": 23,
   "id": "22558edc-de7e-4bb5-b0ff-ff739a9596f9",
   "metadata": {
    "tags": []
   },
   "outputs": [],
   "source": [
    "X = df.drop('target', axis=1)\n",
    "y = df['target']\n"
   ]
  },
  {
   "cell_type": "code",
   "execution_count": 24,
   "id": "03d01cd2-6912-47cb-a8fb-b4321c2a9436",
   "metadata": {
    "tags": []
   },
   "outputs": [
    {
     "data": {
      "text/html": [
       "<div>\n",
       "<style scoped>\n",
       "    .dataframe tbody tr th:only-of-type {\n",
       "        vertical-align: middle;\n",
       "    }\n",
       "\n",
       "    .dataframe tbody tr th {\n",
       "        vertical-align: top;\n",
       "    }\n",
       "\n",
       "    .dataframe thead th {\n",
       "        text-align: right;\n",
       "    }\n",
       "</style>\n",
       "<table border=\"1\" class=\"dataframe\">\n",
       "  <thead>\n",
       "    <tr style=\"text-align: right;\">\n",
       "      <th></th>\n",
       "      <th>f1</th>\n",
       "      <th>f2</th>\n",
       "      <th>f3</th>\n",
       "      <th>f4</th>\n",
       "      <th>f5</th>\n",
       "      <th>f6</th>\n",
       "      <th>f7</th>\n",
       "    </tr>\n",
       "  </thead>\n",
       "  <tbody>\n",
       "    <tr>\n",
       "      <th>0</th>\n",
       "      <td>6.0</td>\n",
       "      <td>148.0</td>\n",
       "      <td>72.0</td>\n",
       "      <td>35.0</td>\n",
       "      <td>0.0</td>\n",
       "      <td>33.6</td>\n",
       "      <td>0.62700</td>\n",
       "    </tr>\n",
       "    <tr>\n",
       "      <th>1</th>\n",
       "      <td>1.0</td>\n",
       "      <td>85.0</td>\n",
       "      <td>66.0</td>\n",
       "      <td>29.0</td>\n",
       "      <td>0.0</td>\n",
       "      <td>26.6</td>\n",
       "      <td>0.35100</td>\n",
       "    </tr>\n",
       "    <tr>\n",
       "      <th>2</th>\n",
       "      <td>8.0</td>\n",
       "      <td>183.0</td>\n",
       "      <td>64.0</td>\n",
       "      <td>0.0</td>\n",
       "      <td>0.0</td>\n",
       "      <td>23.3</td>\n",
       "      <td>0.67200</td>\n",
       "    </tr>\n",
       "    <tr>\n",
       "      <th>3</th>\n",
       "      <td>1.0</td>\n",
       "      <td>89.0</td>\n",
       "      <td>66.0</td>\n",
       "      <td>23.0</td>\n",
       "      <td>94.0</td>\n",
       "      <td>28.1</td>\n",
       "      <td>0.16700</td>\n",
       "    </tr>\n",
       "    <tr>\n",
       "      <th>4</th>\n",
       "      <td>0.0</td>\n",
       "      <td>137.0</td>\n",
       "      <td>40.0</td>\n",
       "      <td>35.0</td>\n",
       "      <td>168.0</td>\n",
       "      <td>43.1</td>\n",
       "      <td>1.20025</td>\n",
       "    </tr>\n",
       "    <tr>\n",
       "      <th>...</th>\n",
       "      <td>...</td>\n",
       "      <td>...</td>\n",
       "      <td>...</td>\n",
       "      <td>...</td>\n",
       "      <td>...</td>\n",
       "      <td>...</td>\n",
       "      <td>...</td>\n",
       "    </tr>\n",
       "    <tr>\n",
       "      <th>761</th>\n",
       "      <td>9.0</td>\n",
       "      <td>89.0</td>\n",
       "      <td>62.0</td>\n",
       "      <td>0.0</td>\n",
       "      <td>0.0</td>\n",
       "      <td>22.5</td>\n",
       "      <td>NaN</td>\n",
       "    </tr>\n",
       "    <tr>\n",
       "      <th>762</th>\n",
       "      <td>10.0</td>\n",
       "      <td>101.0</td>\n",
       "      <td>76.0</td>\n",
       "      <td>48.0</td>\n",
       "      <td>180.0</td>\n",
       "      <td>NaN</td>\n",
       "      <td>0.17100</td>\n",
       "    </tr>\n",
       "    <tr>\n",
       "      <th>763</th>\n",
       "      <td>2.0</td>\n",
       "      <td>122.0</td>\n",
       "      <td>70.0</td>\n",
       "      <td>27.0</td>\n",
       "      <td>NaN</td>\n",
       "      <td>36.8</td>\n",
       "      <td>0.34000</td>\n",
       "    </tr>\n",
       "    <tr>\n",
       "      <th>764</th>\n",
       "      <td>NaN</td>\n",
       "      <td>121.0</td>\n",
       "      <td>72.0</td>\n",
       "      <td>23.0</td>\n",
       "      <td>112.0</td>\n",
       "      <td>26.2</td>\n",
       "      <td>0.24500</td>\n",
       "    </tr>\n",
       "    <tr>\n",
       "      <th>765</th>\n",
       "      <td>1.0</td>\n",
       "      <td>126.0</td>\n",
       "      <td>60.0</td>\n",
       "      <td>NaN</td>\n",
       "      <td>0.0</td>\n",
       "      <td>30.1</td>\n",
       "      <td>0.34900</td>\n",
       "    </tr>\n",
       "  </tbody>\n",
       "</table>\n",
       "<p>756 rows × 7 columns</p>\n",
       "</div>"
      ],
      "text/plain": [
       "       f1     f2    f3    f4     f5    f6       f7\n",
       "0     6.0  148.0  72.0  35.0    0.0  33.6  0.62700\n",
       "1     1.0   85.0  66.0  29.0    0.0  26.6  0.35100\n",
       "2     8.0  183.0  64.0   0.0    0.0  23.3  0.67200\n",
       "3     1.0   89.0  66.0  23.0   94.0  28.1  0.16700\n",
       "4     0.0  137.0  40.0  35.0  168.0  43.1  1.20025\n",
       "..    ...    ...   ...   ...    ...   ...      ...\n",
       "761   9.0   89.0  62.0   0.0    0.0  22.5      NaN\n",
       "762  10.0  101.0  76.0  48.0  180.0   NaN  0.17100\n",
       "763   2.0  122.0  70.0  27.0    NaN  36.8  0.34000\n",
       "764   NaN  121.0  72.0  23.0  112.0  26.2  0.24500\n",
       "765   1.0  126.0  60.0   NaN    0.0  30.1  0.34900\n",
       "\n",
       "[756 rows x 7 columns]"
      ]
     },
     "execution_count": 24,
     "metadata": {},
     "output_type": "execute_result"
    }
   ],
   "source": [
    "X \n"
   ]
  },
  {
   "cell_type": "code",
   "execution_count": 25,
   "id": "06650bf6-0e1d-4f07-93d7-bd674c883c0d",
   "metadata": {
    "tags": []
   },
   "outputs": [
    {
     "data": {
      "text/plain": [
       "0      1\n",
       "1      0\n",
       "2      1\n",
       "3      0\n",
       "4      1\n",
       "      ..\n",
       "761    0\n",
       "762    0\n",
       "763    0\n",
       "764    0\n",
       "765    1\n",
       "Name: target, Length: 756, dtype: int64"
      ]
     },
     "execution_count": 25,
     "metadata": {},
     "output_type": "execute_result"
    }
   ],
   "source": [
    "y"
   ]
  },
  {
   "cell_type": "code",
   "execution_count": 26,
   "id": "f169c189-e371-4911-814f-72f06dbd7b3b",
   "metadata": {
    "tags": []
   },
   "outputs": [
    {
     "name": "stdout",
     "output_type": "stream",
     "text": [
      "['f1', 'f2', 'f3', 'f4', 'f5', 'f6', 'f7']\n"
     ]
    }
   ],
   "source": [
    "numcols = X.select_dtypes(include=['int64', 'float64']).columns\n",
    "print(numcols.tolist())"
   ]
  },
  {
   "cell_type": "markdown",
   "id": "078bedf0-d54d-489a-bb62-4083aa3b99dc",
   "metadata": {},
   "source": [
    "## 2.1 Preprocess data Scale numerical variables"
   ]
  },
  {
   "cell_type": "code",
   "execution_count": 27,
   "id": "be355af5-ea13-44d8-8bd3-4335dd841bba",
   "metadata": {
    "tags": []
   },
   "outputs": [],
   "source": [
    "scaler = StandardScaler()\n",
    "X[numcols] = scaler.fit_transform(X[numcols])"
   ]
  },
  {
   "cell_type": "code",
   "execution_count": 28,
   "id": "1c8d8430-cb23-4b38-ae40-253642d83809",
   "metadata": {
    "tags": []
   },
   "outputs": [
    {
     "data": {
      "text/html": [
       "<div>\n",
       "<style scoped>\n",
       "    .dataframe tbody tr th:only-of-type {\n",
       "        vertical-align: middle;\n",
       "    }\n",
       "\n",
       "    .dataframe tbody tr th {\n",
       "        vertical-align: top;\n",
       "    }\n",
       "\n",
       "    .dataframe thead th {\n",
       "        text-align: right;\n",
       "    }\n",
       "</style>\n",
       "<table border=\"1\" class=\"dataframe\">\n",
       "  <thead>\n",
       "    <tr style=\"text-align: right;\">\n",
       "      <th></th>\n",
       "      <th>f1</th>\n",
       "      <th>f2</th>\n",
       "      <th>f3</th>\n",
       "      <th>f4</th>\n",
       "      <th>f5</th>\n",
       "      <th>f6</th>\n",
       "      <th>f7</th>\n",
       "    </tr>\n",
       "  </thead>\n",
       "  <tbody>\n",
       "    <tr>\n",
       "      <th>0</th>\n",
       "      <td>0.669324</td>\n",
       "      <td>0.873572</td>\n",
       "      <td>0.089436</td>\n",
       "      <td>0.932894</td>\n",
       "      <td>-0.789071</td>\n",
       "      <td>0.212925</td>\n",
       "      <td>0.584166</td>\n",
       "    </tr>\n",
       "    <tr>\n",
       "      <th>1</th>\n",
       "      <td>-0.851867</td>\n",
       "      <td>-1.202444</td>\n",
       "      <td>-0.331395</td>\n",
       "      <td>0.551657</td>\n",
       "      <td>-0.789071</td>\n",
       "      <td>-0.777599</td>\n",
       "      <td>-0.380213</td>\n",
       "    </tr>\n",
       "    <tr>\n",
       "      <th>2</th>\n",
       "      <td>1.277800</td>\n",
       "      <td>2.026915</td>\n",
       "      <td>-0.471672</td>\n",
       "      <td>-1.290988</td>\n",
       "      <td>-0.789071</td>\n",
       "      <td>-1.244561</td>\n",
       "      <td>0.741402</td>\n",
       "    </tr>\n",
       "    <tr>\n",
       "      <th>3</th>\n",
       "      <td>-0.851867</td>\n",
       "      <td>-1.070634</td>\n",
       "      <td>-0.331395</td>\n",
       "      <td>0.170420</td>\n",
       "      <td>0.205488</td>\n",
       "      <td>-0.565344</td>\n",
       "      <td>-1.023133</td>\n",
       "    </tr>\n",
       "    <tr>\n",
       "      <th>4</th>\n",
       "      <td>-1.156105</td>\n",
       "      <td>0.511093</td>\n",
       "      <td>-2.154998</td>\n",
       "      <td>0.932894</td>\n",
       "      <td>0.988438</td>\n",
       "      <td>1.557208</td>\n",
       "      <td>2.587175</td>\n",
       "    </tr>\n",
       "    <tr>\n",
       "      <th>...</th>\n",
       "      <td>...</td>\n",
       "      <td>...</td>\n",
       "      <td>...</td>\n",
       "      <td>...</td>\n",
       "      <td>...</td>\n",
       "      <td>...</td>\n",
       "      <td>...</td>\n",
       "    </tr>\n",
       "    <tr>\n",
       "      <th>761</th>\n",
       "      <td>1.582038</td>\n",
       "      <td>-1.070634</td>\n",
       "      <td>-0.611950</td>\n",
       "      <td>-1.290988</td>\n",
       "      <td>-0.789071</td>\n",
       "      <td>-1.357763</td>\n",
       "      <td>NaN</td>\n",
       "    </tr>\n",
       "    <tr>\n",
       "      <th>762</th>\n",
       "      <td>1.886276</td>\n",
       "      <td>-0.675202</td>\n",
       "      <td>0.369990</td>\n",
       "      <td>1.758908</td>\n",
       "      <td>1.115403</td>\n",
       "      <td>NaN</td>\n",
       "      <td>-1.009156</td>\n",
       "    </tr>\n",
       "    <tr>\n",
       "      <th>763</th>\n",
       "      <td>-0.547629</td>\n",
       "      <td>0.016804</td>\n",
       "      <td>-0.050841</td>\n",
       "      <td>0.424578</td>\n",
       "      <td>NaN</td>\n",
       "      <td>0.665736</td>\n",
       "      <td>-0.418649</td>\n",
       "    </tr>\n",
       "    <tr>\n",
       "      <th>764</th>\n",
       "      <td>NaN</td>\n",
       "      <td>-0.016149</td>\n",
       "      <td>0.089436</td>\n",
       "      <td>0.170420</td>\n",
       "      <td>0.395935</td>\n",
       "      <td>-0.834201</td>\n",
       "      <td>-0.750591</td>\n",
       "    </tr>\n",
       "    <tr>\n",
       "      <th>765</th>\n",
       "      <td>-0.851867</td>\n",
       "      <td>0.148614</td>\n",
       "      <td>-0.752227</td>\n",
       "      <td>NaN</td>\n",
       "      <td>-0.789071</td>\n",
       "      <td>-0.282337</td>\n",
       "      <td>-0.387201</td>\n",
       "    </tr>\n",
       "  </tbody>\n",
       "</table>\n",
       "<p>756 rows × 7 columns</p>\n",
       "</div>"
      ],
      "text/plain": [
       "           f1        f2        f3        f4        f5        f6        f7\n",
       "0    0.669324  0.873572  0.089436  0.932894 -0.789071  0.212925  0.584166\n",
       "1   -0.851867 -1.202444 -0.331395  0.551657 -0.789071 -0.777599 -0.380213\n",
       "2    1.277800  2.026915 -0.471672 -1.290988 -0.789071 -1.244561  0.741402\n",
       "3   -0.851867 -1.070634 -0.331395  0.170420  0.205488 -0.565344 -1.023133\n",
       "4   -1.156105  0.511093 -2.154998  0.932894  0.988438  1.557208  2.587175\n",
       "..        ...       ...       ...       ...       ...       ...       ...\n",
       "761  1.582038 -1.070634 -0.611950 -1.290988 -0.789071 -1.357763       NaN\n",
       "762  1.886276 -0.675202  0.369990  1.758908  1.115403       NaN -1.009156\n",
       "763 -0.547629  0.016804 -0.050841  0.424578       NaN  0.665736 -0.418649\n",
       "764       NaN -0.016149  0.089436  0.170420  0.395935 -0.834201 -0.750591\n",
       "765 -0.851867  0.148614 -0.752227       NaN -0.789071 -0.282337 -0.387201\n",
       "\n",
       "[756 rows x 7 columns]"
      ]
     },
     "execution_count": 28,
     "metadata": {},
     "output_type": "execute_result"
    }
   ],
   "source": [
    "X"
   ]
  },
  {
   "cell_type": "code",
   "execution_count": 29,
   "id": "dd61952d-f546-4d85-b611-f6fcdf16e604",
   "metadata": {
    "tags": []
   },
   "outputs": [],
   "source": [
    "imputer = SimpleImputer(strategy='mean')\n",
    "X[numcols] = imputer.fit_transform(X[numcols])"
   ]
  },
  {
   "cell_type": "code",
   "execution_count": 30,
   "id": "c037ce10-2027-4c5f-8288-8e94476fc38c",
   "metadata": {
    "tags": []
   },
   "outputs": [
    {
     "data": {
      "text/html": [
       "<div>\n",
       "<style scoped>\n",
       "    .dataframe tbody tr th:only-of-type {\n",
       "        vertical-align: middle;\n",
       "    }\n",
       "\n",
       "    .dataframe tbody tr th {\n",
       "        vertical-align: top;\n",
       "    }\n",
       "\n",
       "    .dataframe thead th {\n",
       "        text-align: right;\n",
       "    }\n",
       "</style>\n",
       "<table border=\"1\" class=\"dataframe\">\n",
       "  <thead>\n",
       "    <tr style=\"text-align: right;\">\n",
       "      <th></th>\n",
       "      <th>f1</th>\n",
       "      <th>f2</th>\n",
       "      <th>f3</th>\n",
       "      <th>f4</th>\n",
       "      <th>f5</th>\n",
       "      <th>f6</th>\n",
       "      <th>f7</th>\n",
       "    </tr>\n",
       "  </thead>\n",
       "  <tbody>\n",
       "    <tr>\n",
       "      <th>0</th>\n",
       "      <td>6.693238e-01</td>\n",
       "      <td>0.873572</td>\n",
       "      <td>0.089436</td>\n",
       "      <td>9.328944e-01</td>\n",
       "      <td>-7.890712e-01</td>\n",
       "      <td>2.129253e-01</td>\n",
       "      <td>5.841660e-01</td>\n",
       "    </tr>\n",
       "    <tr>\n",
       "      <th>1</th>\n",
       "      <td>-8.518666e-01</td>\n",
       "      <td>-1.202444</td>\n",
       "      <td>-0.331395</td>\n",
       "      <td>5.516574e-01</td>\n",
       "      <td>-7.890712e-01</td>\n",
       "      <td>-7.775992e-01</td>\n",
       "      <td>-3.802131e-01</td>\n",
       "    </tr>\n",
       "    <tr>\n",
       "      <th>2</th>\n",
       "      <td>1.277800e+00</td>\n",
       "      <td>2.026915</td>\n",
       "      <td>-0.471672</td>\n",
       "      <td>-1.290988e+00</td>\n",
       "      <td>-7.890712e-01</td>\n",
       "      <td>-1.244561e+00</td>\n",
       "      <td>7.414018e-01</td>\n",
       "    </tr>\n",
       "    <tr>\n",
       "      <th>3</th>\n",
       "      <td>-8.518666e-01</td>\n",
       "      <td>-1.070634</td>\n",
       "      <td>-0.331395</td>\n",
       "      <td>1.704205e-01</td>\n",
       "      <td>2.054878e-01</td>\n",
       "      <td>-5.653439e-01</td>\n",
       "      <td>-1.023133e+00</td>\n",
       "    </tr>\n",
       "    <tr>\n",
       "      <th>4</th>\n",
       "      <td>-1.156105e+00</td>\n",
       "      <td>0.511093</td>\n",
       "      <td>-2.154998</td>\n",
       "      <td>9.328944e-01</td>\n",
       "      <td>9.884384e-01</td>\n",
       "      <td>1.557208e+00</td>\n",
       "      <td>2.587175e+00</td>\n",
       "    </tr>\n",
       "    <tr>\n",
       "      <th>...</th>\n",
       "      <td>...</td>\n",
       "      <td>...</td>\n",
       "      <td>...</td>\n",
       "      <td>...</td>\n",
       "      <td>...</td>\n",
       "      <td>...</td>\n",
       "      <td>...</td>\n",
       "    </tr>\n",
       "    <tr>\n",
       "      <th>761</th>\n",
       "      <td>1.582038e+00</td>\n",
       "      <td>-1.070634</td>\n",
       "      <td>-0.611950</td>\n",
       "      <td>-1.290988e+00</td>\n",
       "      <td>-7.890712e-01</td>\n",
       "      <td>-1.357763e+00</td>\n",
       "      <td>-1.882232e-17</td>\n",
       "    </tr>\n",
       "    <tr>\n",
       "      <th>762</th>\n",
       "      <td>1.886276e+00</td>\n",
       "      <td>-0.675202</td>\n",
       "      <td>0.369990</td>\n",
       "      <td>1.758908e+00</td>\n",
       "      <td>1.115403e+00</td>\n",
       "      <td>1.129339e-16</td>\n",
       "      <td>-1.009156e+00</td>\n",
       "    </tr>\n",
       "    <tr>\n",
       "      <th>763</th>\n",
       "      <td>-5.476285e-01</td>\n",
       "      <td>0.016804</td>\n",
       "      <td>-0.050841</td>\n",
       "      <td>4.245784e-01</td>\n",
       "      <td>-3.293907e-17</td>\n",
       "      <td>6.657364e-01</td>\n",
       "      <td>-4.186485e-01</td>\n",
       "    </tr>\n",
       "    <tr>\n",
       "      <th>764</th>\n",
       "      <td>4.235023e-17</td>\n",
       "      <td>-0.016149</td>\n",
       "      <td>0.089436</td>\n",
       "      <td>1.704205e-01</td>\n",
       "      <td>3.959352e-01</td>\n",
       "      <td>-8.342006e-01</td>\n",
       "      <td>-7.505906e-01</td>\n",
       "    </tr>\n",
       "    <tr>\n",
       "      <th>765</th>\n",
       "      <td>-8.518666e-01</td>\n",
       "      <td>0.148614</td>\n",
       "      <td>-0.752227</td>\n",
       "      <td>-1.117575e-16</td>\n",
       "      <td>-7.890712e-01</td>\n",
       "      <td>-2.823369e-01</td>\n",
       "      <td>-3.872014e-01</td>\n",
       "    </tr>\n",
       "  </tbody>\n",
       "</table>\n",
       "<p>756 rows × 7 columns</p>\n",
       "</div>"
      ],
      "text/plain": [
       "               f1        f2        f3            f4            f5  \\\n",
       "0    6.693238e-01  0.873572  0.089436  9.328944e-01 -7.890712e-01   \n",
       "1   -8.518666e-01 -1.202444 -0.331395  5.516574e-01 -7.890712e-01   \n",
       "2    1.277800e+00  2.026915 -0.471672 -1.290988e+00 -7.890712e-01   \n",
       "3   -8.518666e-01 -1.070634 -0.331395  1.704205e-01  2.054878e-01   \n",
       "4   -1.156105e+00  0.511093 -2.154998  9.328944e-01  9.884384e-01   \n",
       "..            ...       ...       ...           ...           ...   \n",
       "761  1.582038e+00 -1.070634 -0.611950 -1.290988e+00 -7.890712e-01   \n",
       "762  1.886276e+00 -0.675202  0.369990  1.758908e+00  1.115403e+00   \n",
       "763 -5.476285e-01  0.016804 -0.050841  4.245784e-01 -3.293907e-17   \n",
       "764  4.235023e-17 -0.016149  0.089436  1.704205e-01  3.959352e-01   \n",
       "765 -8.518666e-01  0.148614 -0.752227 -1.117575e-16 -7.890712e-01   \n",
       "\n",
       "               f6            f7  \n",
       "0    2.129253e-01  5.841660e-01  \n",
       "1   -7.775992e-01 -3.802131e-01  \n",
       "2   -1.244561e+00  7.414018e-01  \n",
       "3   -5.653439e-01 -1.023133e+00  \n",
       "4    1.557208e+00  2.587175e+00  \n",
       "..            ...           ...  \n",
       "761 -1.357763e+00 -1.882232e-17  \n",
       "762  1.129339e-16 -1.009156e+00  \n",
       "763  6.657364e-01 -4.186485e-01  \n",
       "764 -8.342006e-01 -7.505906e-01  \n",
       "765 -2.823369e-01 -3.872014e-01  \n",
       "\n",
       "[756 rows x 7 columns]"
      ]
     },
     "execution_count": 30,
     "metadata": {},
     "output_type": "execute_result"
    }
   ],
   "source": [
    "X"
   ]
  },
  {
   "cell_type": "markdown",
   "id": "bc573527-df9a-48e5-a6a1-b02633dcef40",
   "metadata": {},
   "source": [
    "## 2.2 Split the dataset using train_test_split"
   ]
  },
  {
   "cell_type": "code",
   "execution_count": 31,
   "id": "0f7101bd-5da9-4510-9d5f-81d2bb7ddfa1",
   "metadata": {
    "tags": []
   },
   "outputs": [],
   "source": [
    "# split the dataframe, Train 85% Test 15%\n",
    "X_train, X_test, y_train, y_test = train_test_split(X, y, test_size=0.15, random_state=42, stratify=y)\n",
    "\n",
    "#splitting training set into (82.35%) and validation (17.65%),, this makes 70-15-15 ratio of original set\n",
    "X_train, X_val, y_train, y_val = train_test_split(X_train, y_train, test_size=0.176, random_state=42, stratify=y_train)\n"
   ]
  },
  {
   "cell_type": "code",
   "execution_count": 32,
   "id": "430132e0-89f6-433b-9c78-5ac2b21ff8c3",
   "metadata": {
    "tags": []
   },
   "outputs": [
    {
     "name": "stdout",
     "output_type": "stream",
     "text": [
      "Training shape: \t (529,)\n",
      "Validation shape: \t (113,)\n",
      "Teesting shape: \t (114,)\n"
     ]
    }
   ],
   "source": [
    "print(f\"Training shape: \\t\", y_train.shape)\n",
    "print(f\"Validation shape: \\t\", y_val.shape)\n",
    "print(f\"Teesting shape: \\t\", y_test.shape)"
   ]
  },
  {
   "cell_type": "markdown",
   "id": "0510e0f1-289d-455d-8db0-8b24e3e146b1",
   "metadata": {},
   "source": [
    "## 2.3 Convert them to tensors"
   ]
  },
  {
   "cell_type": "code",
   "execution_count": 33,
   "id": "3f08dcb3-ca80-4577-bd3e-05c191a06b90",
   "metadata": {
    "tags": []
   },
   "outputs": [],
   "source": [
    "# conversion to tensors\n",
    "X_train_tensor = torch.tensor(X_train.values, dtype=torch.float32)\n",
    "X_val_tensor = torch.tensor(X_val.values, dtype=torch.float32)\n",
    "X_test_tensor = torch.tensor(X_test.values, dtype=torch.float32)"
   ]
  },
  {
   "cell_type": "code",
   "execution_count": 34,
   "id": "bf0f5ad6-706a-4e0a-a869-1435692c8000",
   "metadata": {
    "tags": []
   },
   "outputs": [],
   "source": [
    "y_train_tensor = torch.tensor(y_train.values, dtype=torch.float32)\n",
    "y_val_tensor = torch.tensor(y_val.values, dtype=torch.float32)\n",
    "y_test_tensor = torch.tensor(y_test.values, dtype=torch.float32)\n"
   ]
  },
  {
   "cell_type": "code",
   "execution_count": 35,
   "id": "a39a9569-01fa-49de-baeb-ad765263d978",
   "metadata": {
    "tags": []
   },
   "outputs": [
    {
     "name": "stdout",
     "output_type": "stream",
     "text": [
      "Type of X_train_tensor:  <class 'torch.Tensor'>\n",
      "Type of y_train_tensor:  <class 'torch.Tensor'>\n"
     ]
    }
   ],
   "source": [
    "print(f\"Type of X_train_tensor: \",type(X_train_tensor))\n",
    "print(f\"Type of y_train_tensor: \",type(X_train_tensor))\n",
    "\n"
   ]
  },
  {
   "cell_type": "code",
   "execution_count": 36,
   "id": "641696c0-c2dd-4f81-a2bf-74e9439cbe29",
   "metadata": {
    "tags": []
   },
   "outputs": [
    {
     "name": "stdout",
     "output_type": "stream",
     "text": [
      "Type of X_val_tensor:  <class 'torch.Tensor'>\n",
      "Type of y_val_tensor:  <class 'torch.Tensor'>\n"
     ]
    }
   ],
   "source": [
    "print(f\"Type of X_val_tensor: \",type(X_train_tensor))\n",
    "print(f\"Type of y_val_tensor: \",type(X_train_tensor))\n"
   ]
  },
  {
   "cell_type": "code",
   "execution_count": 37,
   "id": "d48dfdd9-d946-43d3-8420-8caf0766de9f",
   "metadata": {
    "tags": []
   },
   "outputs": [
    {
     "name": "stdout",
     "output_type": "stream",
     "text": [
      "Type of X_test_tensor:  <class 'torch.Tensor'>\n",
      "Type of y_test_tensor:  <class 'torch.Tensor'>\n"
     ]
    }
   ],
   "source": [
    "print(f\"Type of X_test_tensor: \",type(X_train_tensor))\n",
    "print(f\"Type of y_test_tensor: \",type(X_train_tensor))\n"
   ]
  },
  {
   "cell_type": "code",
   "execution_count": 38,
   "id": "2500d149-35ab-44fe-920a-2e502c691417",
   "metadata": {},
   "outputs": [],
   "source": [
    "# they are all tensors now."
   ]
  },
  {
   "cell_type": "markdown",
   "id": "abaeae19-6784-42b6-8b8f-5b1320e7a446",
   "metadata": {},
   "source": [
    "---"
   ]
  },
  {
   "cell_type": "markdown",
   "id": "b48c3dd4-389f-4f98-99cb-e72e2b19a47f",
   "metadata": {},
   "source": [
    "---"
   ]
  },
  {
   "cell_type": "markdown",
   "id": "4a73db72-5cc5-4d75-9361-c841fbb397f4",
   "metadata": {},
   "source": [
    "# STEP 3"
   ]
  },
  {
   "cell_type": "markdown",
   "id": "eee75f84-09c5-4bc0-99f9-80e15eb9c14b",
   "metadata": {},
   "source": [
    "## 3.2 and 3.2 together"
   ]
  },
  {
   "cell_type": "code",
   "execution_count": 39,
   "id": "c488a763-e724-4fcb-98a6-d72b778d069b",
   "metadata": {
    "tags": []
   },
   "outputs": [],
   "source": [
    "class NeuralNetwork(nn.Module):\n",
    "    \n",
    "    def __init__(self, input_features, hidden_size, num_classes):\n",
    "        super(NeuralNetwork, self).__init__()\n",
    "        self.fc1 = nn.Linear(input_features, hidden_size)\n",
    "        self.fc2 = nn.Linear(hidden_size, hidden_size)\n",
    "        self.fc3 = nn.Linear(hidden_size, num_classes)\n",
    "        self.dropout = nn.Dropout(0.3) \n",
    "        \n",
    "        \n",
    "    def forward(self, x):\n",
    "        x = F.relu(self.fc1(x))  \n",
    "        x = F.relu(self.fc2(x))  \n",
    "        x = torch.sigmoid(self.fc3(x))          \n",
    "        return x\n"
   ]
  },
  {
   "cell_type": "code",
   "execution_count": 40,
   "id": "3f392d6f-caaf-4c49-808b-877df39be4d9",
   "metadata": {
    "tags": []
   },
   "outputs": [],
   "source": [
    "input_features = X_train.shape[1]\n",
    "neurons = 64"
   ]
  },
  {
   "cell_type": "markdown",
   "id": "45b2a37d-2235-42a6-bb07-6fe87f89ecb9",
   "metadata": {},
   "source": [
    "## Step 3.3 (Provide summary)"
   ]
  },
  {
   "cell_type": "code",
   "execution_count": 41,
   "id": "c306656a-c039-4ad3-94ae-c67d056f9078",
   "metadata": {
    "tags": []
   },
   "outputs": [
    {
     "data": {
      "text/plain": [
       "==========================================================================================\n",
       "Layer (type:depth-idx)                   Output Shape              Param #\n",
       "==========================================================================================\n",
       "NeuralNetwork                            [1, 1]                    --\n",
       "├─Linear: 1-1                            [1, 64]                   512\n",
       "├─Linear: 1-2                            [1, 64]                   4,160\n",
       "├─Linear: 1-3                            [1, 1]                    65\n",
       "==========================================================================================\n",
       "Total params: 4,737\n",
       "Trainable params: 4,737\n",
       "Non-trainable params: 0\n",
       "Total mult-adds (Units.MEGABYTES): 0.00\n",
       "==========================================================================================\n",
       "Input size (MB): 0.00\n",
       "Forward/backward pass size (MB): 0.00\n",
       "Params size (MB): 0.02\n",
       "Estimated Total Size (MB): 0.02\n",
       "=========================================================================================="
      ]
     },
     "execution_count": 41,
     "metadata": {},
     "output_type": "execute_result"
    }
   ],
   "source": [
    "net = NeuralNetwork(input_features, neurons, 1).to(device)\n",
    "summary(net, input_size=(1, input_features))"
   ]
  },
  {
   "cell_type": "markdown",
   "id": "eee98731-5df3-4ead-9065-1116b2043ce0",
   "metadata": {},
   "source": [
    "---"
   ]
  },
  {
   "cell_type": "markdown",
   "id": "27e1677e-1c88-4349-8190-eff580fa7238",
   "metadata": {},
   "source": [
    "# STEP 4"
   ]
  },
  {
   "cell_type": "markdown",
   "id": "77c4e6ac-d2c5-445b-b768-8db5ec9e140e",
   "metadata": {},
   "source": [
    "## Step 4.1 4.3"
   ]
  },
  {
   "cell_type": "code",
   "execution_count": 42,
   "id": "c1450dde-4822-4c4c-8a23-dbccada3a01f",
   "metadata": {},
   "outputs": [],
   "source": [
    "\n",
    "criterion = nn.BCELoss()\n",
    "learning_rate = 0.0001\n",
    "optimizer = torch.optim.RMSprop(net.parameters(), lr=learning_rate)\n",
    "\n"
   ]
  },
  {
   "cell_type": "code",
   "execution_count": 43,
   "id": "96cca1c7-a0f9-4387-b277-15100eafa264",
   "metadata": {},
   "outputs": [],
   "source": [
    "train_dataset = TensorDataset(X_train_tensor, y_train_tensor)\n",
    "val_dataset = TensorDataset(X_val_tensor, y_val_tensor)\n",
    "\n",
    "# loading the data in batches\n",
    "train_loader = DataLoader(dataset=train_dataset, batch_size=32, shuffle=True)\n",
    "val_loader = DataLoader(dataset=val_dataset, batch_size=32, shuffle=False)\n",
    "\n",
    "best_val_accuracy = 0.0  \n",
    "num_epochs = 30\n",
    "\n",
    "history = {\n",
    "    \"train_loss\": [],\n",
    "    \"val_loss\": [],\n",
    "    \"train_accuracy\": [],\n",
    "    \"val_accuracy\": [],\n",
    "    \"test_accuracy\": [],\n",
    "    \"test_loss\": []\n",
    "}"
   ]
  },
  {
   "cell_type": "code",
   "execution_count": 44,
   "id": "e7f134e4-d73a-4769-903c-10df7b2e8557",
   "metadata": {},
   "outputs": [],
   "source": [
    "total_start_time = time.time()"
   ]
  },
  {
   "cell_type": "markdown",
   "id": "c35dda1d-6bcd-4bb2-8538-7fcc44ead0f8",
   "metadata": {},
   "source": [
    "## Step 4.3, 4.4 and 4.5"
   ]
  },
  {
   "cell_type": "code",
   "execution_count": 45,
   "id": "5a274b3e-56f0-41a3-bdec-ec9df4cc399f",
   "metadata": {},
   "outputs": [
    {
     "name": "stdout",
     "output_type": "stream",
     "text": [
      "Epoch [ 1 / 30 ], \n",
      "Training Loss: 0.6719929505796993\n",
      "Validation Loss: 0.6667802929878235\n",
      "Validation Accuracy: 0.6460176991150443\n",
      "Time per epoch: 0.032486915588378906 seconds\n",
      "Best model saved at epoch 1 with validation accuracy: 0.6460\n",
      "Epoch [ 2 / 30 ], \n",
      "Training Loss: 0.6489291506655076\n",
      "Validation Loss: 0.6538924872875214\n",
      "Validation Accuracy: 0.6637168141592921\n",
      "Time per epoch: 0.007459163665771484 seconds\n",
      "Best model saved at epoch 2 with validation accuracy: 0.6637\n",
      "Epoch [ 3 / 30 ], \n",
      "Training Loss: 0.6335379095638499\n",
      "Validation Loss: 0.643258586525917\n",
      "Validation Accuracy: 0.6548672566371682\n",
      "Time per epoch: 0.007452964782714844 seconds\n",
      "Epoch [ 4 / 30 ], \n",
      "Training Loss: 0.6207960844039917\n",
      "Validation Loss: 0.6341278702020645\n",
      "Validation Accuracy: 0.6637168141592921\n",
      "Time per epoch: 0.00774383544921875 seconds\n",
      "Epoch [ 5 / 30 ], \n",
      "Training Loss: 0.6076034272418303\n",
      "Validation Loss: 0.6257462203502655\n",
      "Validation Accuracy: 0.6637168141592921\n",
      "Time per epoch: 0.006927013397216797 seconds\n",
      "Epoch [ 6 / 30 ], \n",
      "Training Loss: 0.5967620470944572\n",
      "Validation Loss: 0.6181387454271317\n",
      "Validation Accuracy: 0.6548672566371682\n",
      "Time per epoch: 0.006975889205932617 seconds\n",
      "Epoch [ 7 / 30 ], \n",
      "Training Loss: 0.5869975335457746\n",
      "Validation Loss: 0.6111444234848022\n",
      "Validation Accuracy: 0.672566371681416\n",
      "Time per epoch: 0.007440805435180664 seconds\n",
      "Best model saved at epoch 7 with validation accuracy: 0.6726\n",
      "Epoch [ 8 / 30 ], \n",
      "Training Loss: 0.5778903785873862\n",
      "Validation Loss: 0.604806587100029\n",
      "Validation Accuracy: 0.672566371681416\n",
      "Time per epoch: 0.0073320865631103516 seconds\n",
      "Epoch [ 9 / 30 ], \n",
      "Training Loss: 0.5680646072415745\n",
      "Validation Loss: 0.5990026891231537\n",
      "Validation Accuracy: 0.6814159292035398\n",
      "Time per epoch: 0.006891012191772461 seconds\n",
      "Best model saved at epoch 9 with validation accuracy: 0.6814\n",
      "Epoch [ 10 / 30 ], \n",
      "Training Loss: 0.5563464918557335\n",
      "Validation Loss: 0.5935602188110352\n",
      "Validation Accuracy: 0.6902654867256637\n",
      "Time per epoch: 0.006999015808105469 seconds\n",
      "Best model saved at epoch 10 with validation accuracy: 0.6903\n",
      "Epoch [ 11 / 30 ], \n",
      "Training Loss: 0.5502720194704392\n",
      "Validation Loss: 0.5885588526725769\n",
      "Validation Accuracy: 0.6902654867256637\n",
      "Time per epoch: 0.00689697265625 seconds\n",
      "Epoch [ 12 / 30 ], \n",
      "Training Loss: 0.5443793535232544\n",
      "Validation Loss: 0.5840281546115875\n",
      "Validation Accuracy: 0.6991150442477876\n",
      "Time per epoch: 0.007233858108520508 seconds\n",
      "Best model saved at epoch 12 with validation accuracy: 0.6991\n",
      "Epoch [ 13 / 30 ], \n",
      "Training Loss: 0.5379632325733409\n",
      "Validation Loss: 0.5797198861837387\n",
      "Validation Accuracy: 0.6991150442477876\n",
      "Time per epoch: 0.00683903694152832 seconds\n",
      "Epoch [ 14 / 30 ], \n",
      "Training Loss: 0.5293877475401935\n",
      "Validation Loss: 0.5758184343576431\n",
      "Validation Accuracy: 0.7079646017699115\n",
      "Time per epoch: 0.007245779037475586 seconds\n",
      "Best model saved at epoch 14 with validation accuracy: 0.7080\n",
      "Epoch [ 15 / 30 ], \n",
      "Training Loss: 0.5258959636968725\n",
      "Validation Loss: 0.5719509720802307\n",
      "Validation Accuracy: 0.7256637168141593\n",
      "Time per epoch: 0.006864070892333984 seconds\n",
      "Best model saved at epoch 15 with validation accuracy: 0.7257\n",
      "Epoch [ 16 / 30 ], \n",
      "Training Loss: 0.5189651250839233\n",
      "Validation Loss: 0.5684434622526169\n",
      "Validation Accuracy: 0.7256637168141593\n",
      "Time per epoch: 0.0074198246002197266 seconds\n",
      "Epoch [ 17 / 30 ], \n",
      "Training Loss: 0.517893002313726\n",
      "Validation Loss: 0.5650350004434586\n",
      "Validation Accuracy: 0.7256637168141593\n",
      "Time per epoch: 0.007102012634277344 seconds\n",
      "Epoch [ 18 / 30 ], \n",
      "Training Loss: 0.5109070451820598\n",
      "Validation Loss: 0.5616725832223892\n",
      "Validation Accuracy: 0.7345132743362832\n",
      "Time per epoch: 0.008429765701293945 seconds\n",
      "Best model saved at epoch 18 with validation accuracy: 0.7345\n",
      "Epoch [ 19 / 30 ], \n",
      "Training Loss: 0.5042573125923381\n",
      "Validation Loss: 0.5587064325809479\n",
      "Validation Accuracy: 0.7433628318584071\n",
      "Time per epoch: 0.006987094879150391 seconds\n",
      "Best model saved at epoch 19 with validation accuracy: 0.7434\n",
      "Epoch [ 20 / 30 ], \n",
      "Training Loss: 0.5021108721985537\n",
      "Validation Loss: 0.5559780597686768\n",
      "Validation Accuracy: 0.7433628318584071\n",
      "Time per epoch: 0.007200002670288086 seconds\n",
      "Epoch [ 21 / 30 ], \n",
      "Training Loss: 0.4978555826579823\n",
      "Validation Loss: 0.5534814596176147\n",
      "Validation Accuracy: 0.7522123893805309\n",
      "Time per epoch: 0.007168769836425781 seconds\n",
      "Best model saved at epoch 21 with validation accuracy: 0.7522\n",
      "Epoch [ 22 / 30 ], \n",
      "Training Loss: 0.4908756789039163\n",
      "Validation Loss: 0.5514831691980362\n",
      "Validation Accuracy: 0.7433628318584071\n",
      "Time per epoch: 0.00680994987487793 seconds\n",
      "Epoch [ 23 / 30 ], \n",
      "Training Loss: 0.48982831660438986\n",
      "Validation Loss: 0.5495713949203491\n",
      "Validation Accuracy: 0.7433628318584071\n",
      "Time per epoch: 0.007352113723754883 seconds\n",
      "Epoch [ 24 / 30 ], \n",
      "Training Loss: 0.48865751308553357\n",
      "Validation Loss: 0.5476645231246948\n",
      "Validation Accuracy: 0.7433628318584071\n",
      "Time per epoch: 0.006853818893432617 seconds\n",
      "Epoch [ 25 / 30 ], \n",
      "Training Loss: 0.4827457526150872\n",
      "Validation Loss: 0.5460195243358612\n",
      "Validation Accuracy: 0.7433628318584071\n",
      "Time per epoch: 0.007281064987182617 seconds\n",
      "Epoch [ 26 / 30 ], \n",
      "Training Loss: 0.4813362412592944\n",
      "Validation Loss: 0.5445808917284012\n",
      "Validation Accuracy: 0.7433628318584071\n",
      "Time per epoch: 0.006918907165527344 seconds\n",
      "Epoch [ 27 / 30 ], \n",
      "Training Loss: 0.477910099660649\n",
      "Validation Loss: 0.5432831645011902\n",
      "Validation Accuracy: 0.7433628318584071\n",
      "Time per epoch: 0.0070438385009765625 seconds\n",
      "Epoch [ 28 / 30 ], \n",
      "Training Loss: 0.47776128965265613\n",
      "Validation Loss: 0.5418236702680588\n",
      "Validation Accuracy: 0.7522123893805309\n",
      "Time per epoch: 0.006879091262817383 seconds\n",
      "Epoch [ 29 / 30 ], \n",
      "Training Loss: 0.4726243404781117\n",
      "Validation Loss: 0.5405407398939133\n",
      "Validation Accuracy: 0.7610619469026548\n",
      "Time per epoch: 0.008005857467651367 seconds\n",
      "Best model saved at epoch 29 with validation accuracy: 0.7611\n",
      "Epoch [ 30 / 30 ], \n",
      "Training Loss: 0.4749201658894034\n",
      "Validation Loss: 0.5392542481422424\n",
      "Validation Accuracy: 0.7610619469026548\n",
      "Time per epoch: 0.008178949356079102 seconds\n"
     ]
    }
   ],
   "source": [
    "for epoch in range(num_epochs):\n",
    "    \n",
    "    epoch_start_time = time.time() \n",
    "    \n",
    "    #START TRAINING MODE\n",
    "    net.train()  \n",
    "    \n",
    "    running_loss = 0.0\n",
    "    correct_train, total_train = 0, 0\n",
    "\n",
    "    for inputs, labels in train_loader:\n",
    "        \n",
    "        inputs, labels = inputs.to(device), labels.to(device)\n",
    "        \n",
    "        optimizer.zero_grad()  # clearing gradients\n",
    "        \n",
    "        # forward pass\n",
    "        loss = criterion(net(inputs), labels.view(-1, 1))\n",
    "        #backward pass\n",
    "        loss.backward()\n",
    "        optimizer.step()\n",
    "        running_loss += loss.item()\n",
    "        \n",
    "        # calculate the total correct values predicted\n",
    "        correct_train += (net(inputs).round() == labels.view(-1, 1)).sum().item()\n",
    "        total_train += labels.size(0)\n",
    "\n",
    "    traaccuracy = correct_train / total_train\n",
    "    history['train_loss'].append(running_loss / len(train_loader))\n",
    "    history['train_accuracy'].append(traaccuracy)\n",
    "\n",
    "    \n",
    "    \n",
    "    \n",
    "    \n",
    "    #START VALIDATION PHASE\n",
    "    net.eval()  \n",
    "    val_loss, correct_val, total_val = 0.0, 0, 0\n",
    "    with torch.no_grad(): # disabling gradients\n",
    "        for val_inputs, val_labels in val_loader:\n",
    "            \n",
    "            val_inputs, val_labels = val_inputs.to(device), val_labels.to(device)\n",
    "            val_outputs = net(val_inputs)\n",
    "            val_loss += criterion(val_outputs, val_labels.view(-1, 1)).item()\n",
    "            \n",
    "            correct_val += (val_outputs.round() == val_labels.view(-1, 1)).sum().item()\n",
    "            total_val += val_labels.size(0)\n",
    "\n",
    "    val_accuracy = correct_val / total_val\n",
    "    history['val_loss'].append(val_loss / len(val_loader))\n",
    "    history['val_accuracy'].append(val_accuracy)\n",
    "\n",
    "    \n",
    "    \n",
    "    \n",
    "    epoch_end_time = time.time()  \n",
    "    epoch_time = epoch_end_time - epoch_start_time\n",
    "\n",
    "    print(\"Epoch [\", epoch+1, \"/\", num_epochs, \"], \")\n",
    "    print(\"Training Loss:\", running_loss/len(train_loader))\n",
    "    print(\"Validation Loss:\", val_loss/len(val_loader))\n",
    "    print(\"Validation Accuracy:\", val_accuracy)\n",
    "    print(\"Time per epoch:\", epoch_time, \"seconds\")\n",
    "\n",
    "    \n",
    "    \n",
    "    \n",
    "    \n",
    "    \n",
    "    # Save the model if validation accuracy improves\n",
    "    if val_accuracy > best_val_accuracy:\n",
    "        best_val_accuracy = val_accuracy\n",
    "        torch.save(net.state_dict(), 'minazmeh_aramired_assignment2_part1.pt')\n",
    "        print(\"Best model saved at epoch\", epoch+1, \"with validation accuracy:\", format(best_val_accuracy, \".4f\"))\n"
   ]
  },
  {
   "cell_type": "markdown",
   "id": "e250b1c0-2252-493a-a255-25028e0dfcd4",
   "metadata": {},
   "source": [
    "## Step 4.6"
   ]
  },
  {
   "cell_type": "code",
   "execution_count": 46,
   "id": "5cfad1da-9a4b-4ab1-b270-df9976c46597",
   "metadata": {},
   "outputs": [
    {
     "name": "stdout",
     "output_type": "stream",
     "text": [
      "Test Accuracy: 0.7807\n",
      "Precision: 0.7917, Recall: 0.4872, F1-Score: 0.6032\n",
      "Total training time: 0.26 seconds\n"
     ]
    }
   ],
   "source": [
    "net.load_state_dict(torch.load('minazmeh_aramired_assignment2_part1.pt'))\n",
    "net.eval() \n",
    "\n",
    "with torch.no_grad():# Disable gradient\n",
    "    \n",
    "    test_outputs = net(X_test_tensor.to(device))\n",
    "    \n",
    "    # ROUNDING PREDICTIONS AS WE HAVE BINARY CLASSIFICATION\n",
    "    test_pred = test_outputs.round()\n",
    "    \n",
    "    #calculate accuracy and loss\n",
    "    test_accuracy = (test_pred == y_test_tensor.view(-1, 1).to(device)).float().mean().item()\n",
    "    test_loss = criterion(test_outputs, y_test_tensor.view(-1, 1).to(device)).item()\n",
    "\n",
    "    history['test_accuracy'] = [test_accuracy] * num_epochs\n",
    "    history['test_loss'] = [test_loss] * num_epochs\n",
    "\n",
    "    precision, recall, f1, _ = precision_recall_fscore_support(y_test_tensor.cpu(), test_pred.cpu(), average='binary')\n",
    "\n",
    "    print(\"Test Accuracy:\", format(test_accuracy, \".4f\"))\n",
    "    print(\"Precision:\", format(precision, \".4f\"), \", Recall:\", format(recall, \".4f\"), \", F1-Score:\", format(f1, \".4f\"))\n",
    "\n",
    "\n",
    "total_end_time = time.time() # get thee end time \n",
    "total_training_time = total_end_time - total_start_time\n",
    "print(\"Total training time:\", format(total_training_time, \".2f\"), \"seconds\")"
   ]
  },
  {
   "cell_type": "markdown",
   "id": "6634b6e5-ef87-4bc7-8f71-f2f6a12e9120",
   "metadata": {},
   "source": [
    "---"
   ]
  },
  {
   "cell_type": "markdown",
   "id": "4b091821-6849-440d-a525-289ee8dd9302",
   "metadata": {},
   "source": [
    "---"
   ]
  },
  {
   "cell_type": "markdown",
   "id": "d7f2bd50-8950-4746-84f4-6d9e473d242a",
   "metadata": {},
   "source": [
    "# STEP 4 - VISUALIZE "
   ]
  },
  {
   "cell_type": "markdown",
   "id": "05b23eb8-30d8-41b3-aa1d-8495c200825e",
   "metadata": {},
   "source": [
    "## 4.7.a. Compare Train, Validation, and Test Accuracies"
   ]
  },
  {
   "cell_type": "code",
   "execution_count": 47,
   "id": "9b3a0173-2c97-4ed2-95d9-a155ca0d9704",
   "metadata": {},
   "outputs": [
    {
     "data": {
      "image/png": "[encoded data removed]",
      "text/plain": [
       "<Figure size 1000x600 with 1 Axes>"
      ]
     },
     "metadata": {},
     "output_type": "display_data"
    }
   ],
   "source": [
    "plt.figure(figsize=(10, 6))\n",
    "\n",
    "plt.plot(history['train_accuracy'], label='Training Accuracy')\n",
    "plt.plot(history['val_accuracy'], label='Validation Accuracy')\n",
    "plt.plot(history['test_accuracy'], label='Test Accuracy', linestyle='--')\n",
    "plt.xlabel('Epochs')\n",
    "plt.ylabel('Accuracy')\n",
    "plt.legend()\n",
    "plt.title('Training, Validation, and Test Accuracy')\n",
    "plt.show()\n",
    "\n"
   ]
  },
  {
   "cell_type": "markdown",
   "id": "1eb51354-6125-48a9-b594-ca1b45c11b6d",
   "metadata": {},
   "source": [
    "## 4.7.b. Compare Train, Validation and Test Losses"
   ]
  },
  {
   "cell_type": "code",
   "execution_count": 48,
   "id": "f23c619f-4a70-4f58-bc44-c34f59754023",
   "metadata": {},
   "outputs": [
    {
     "data": {
      "image/png": "[encoded data removed]",
      "text/plain": [
       "<Figure size 1000x600 with 1 Axes>"
      ]
     },
     "metadata": {},
     "output_type": "display_data"
    }
   ],
   "source": [
    "# Plot loss comparison (training, validation, test)\n",
    "plt.figure(figsize=(10, 6))\n",
    "plt.plot(history['train_loss'], label='Training Loss')\n",
    "plt.plot(history['val_loss'], label='Validation Loss')\n",
    "plt.plot(history['test_loss'], label='Test Loss', linestyle='--')\n",
    "plt.xlabel('Epochs')\n",
    "plt.ylabel('Loss')\n",
    "plt.legend()\n",
    "plt.title('Training, Validation, and Test Loss')\n",
    "plt.show()\n",
    "\n",
    "\n"
   ]
  },
  {
   "cell_type": "markdown",
   "id": "fb0bd142-0aae-438b-98f4-ef0f0b1d9d59",
   "metadata": {},
   "source": [
    "# 4.7.c. Confusion Matrix"
   ]
  },
  {
   "cell_type": "code",
   "execution_count": 49,
   "id": "52ac19f9-9071-43f4-8694-fa5079ceedc3",
   "metadata": {},
   "outputs": [
    {
     "data": {
      "image/png": "[encoded data removed]",
      "text/plain": [
       "<Figure size 600x600 with 2 Axes>"
      ]
     },
     "metadata": {},
     "output_type": "display_data"
    }
   ],
   "source": [
    "# Confusion Matrix\n",
    "cm = confusion_matrix(y_test_tensor.cpu(), test_pred.cpu())\n",
    "plt.figure(figsize=(6, 6))\n",
    "\n",
    "sns.heatmap(cm, annot=True, fmt=\"d\", cmap=\"Blues\", xticklabels=['Negative', 'Positive'], yticklabels=['Negative', 'Positive'])\n",
    "plt.title('Confusion Matrix')\n",
    "plt.ylabel('True Label')\n",
    "plt.xlabel('Predicted Label')\n",
    "plt.show()\n",
    "\n"
   ]
  },
  {
   "cell_type": "markdown",
   "id": "b7f38cd7-bf93-4add-8d3d-5ff5da703cbe",
   "metadata": {},
   "source": [
    "# 4.7.d. ROC Curve "
   ]
  },
  {
   "cell_type": "code",
   "execution_count": 50,
   "id": "f9754948-909a-45ad-a2fe-ec2313e70163",
   "metadata": {
    "tags": []
   },
   "outputs": [
    {
     "data": {
      "image/png": "[encoded data removed]",
      "text/plain": [
       "<Figure size 800x600 with 1 Axes>"
      ]
     },
     "metadata": {},
     "output_type": "display_data"
    }
   ],
   "source": [
    "#ROC Curv AUC\n",
    "fpr, tpr, thresholds = roc_curve(y_test_tensor.cpu(), test_outputs.cpu())\n",
    "roc_auc = auc(fpr, tpr)\n",
    "\n",
    "plt.figure(figsize=(8, 6))\n",
    "plt.plot(fpr, tpr, label=f'AUC = {roc_auc:.2f}')\n",
    "plt.plot([0, 1], [0, 1], linestyle='--', color='gray')\n",
    "plt.xlabel('False Positive Rate')\n",
    "plt.ylabel('True Positive Rate')\n",
    "plt.title('ROC Curve')\n",
    "plt.legend()\n",
    "plt.show()"
   ]
  },
  {
   "cell_type": "code",
   "execution_count": 51,
   "id": "ae2626cc-2172-4424-b103-b57b3211bad7",
   "metadata": {
    "tags": []
   },
   "outputs": [],
   "source": [
    "df.to_csv('dataset_preprocessed.csv', index=False)\n"
   ]
  },
  {
   "cell_type": "markdown",
   "id": "4560b19b-ee39-46f3-a4c7-04742b36f2ba",
   "metadata": {},
   "source": [
    "---"
   ]
  },
  {
   "cell_type": "markdown",
   "id": "877e8d09-5243-47ba-bbdc-d74182f4d19a",
   "metadata": {},
   "source": [
    "---"
   ]
  },
  {
   "cell_type": "code",
   "execution_count": null,
   "id": "d7d5b4ac-cdc5-40ee-9b5e-2505b44f6e60",
   "metadata": {},
   "outputs": [],
   "source": []
  }
 ],
 "metadata": {
  "kernelspec": {
   "display_name": "Python 3 (ipykernel)",
   "language": "python",
   "name": "python3"
  },
  "language_info": {
   "codemirror_mode": {
    "name": "ipython",
    "version": 3
   },
   "file_extension": ".py",
   "mimetype": "text/x-python",
   "name": "python",
   "nbconvert_exporter": "python",
   "pygments_lexer": "ipython3",
   "version": "3.11.5"
  }
 },
 "nbformat": 4,
 "nbformat_minor": 5
}
