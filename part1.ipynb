{
 "cells": [
  {
   "cell_type": "markdown",
   "id": "a5e4a182-3248-4315-a04c-70e380cda57e",
   "metadata": {},
   "source": [
    "# PART I"
   ]
  },
  {
   "cell_type": "code",
   "execution_count": 1,
   "id": "536c0847-b1a2-4821-a88b-df1681fe534c",
   "metadata": {
    "tags": []
   },
   "outputs": [
    {
     "name": "stdout",
     "output_type": "stream",
     "text": [
      "Requirement already satisfied: torch in /Users/minaz/anaconda3/lib/python3.11/site-packages (2.5.0)\n",
      "Requirement already satisfied: filelock in /Users/minaz/anaconda3/lib/python3.11/site-packages (from torch) (3.9.0)\n",
      "Requirement already satisfied: typing-extensions>=4.8.0 in /Users/minaz/anaconda3/lib/python3.11/site-packages (from torch) (4.12.2)\n",
      "Requirement already satisfied: networkx in /Users/minaz/anaconda3/lib/python3.11/site-packages (from torch) (3.1)\n",
      "Requirement already satisfied: jinja2 in /Users/minaz/anaconda3/lib/python3.11/site-packages (from torch) (3.1.2)\n",
      "Requirement already satisfied: fsspec in /Users/minaz/anaconda3/lib/python3.11/site-packages (from torch) (2023.4.0)\n",
      "Requirement already satisfied: sympy==1.13.1 in /Users/minaz/anaconda3/lib/python3.11/site-packages (from torch) (1.13.1)\n",
      "Requirement already satisfied: mpmath<1.4,>=1.1.0 in /Users/minaz/anaconda3/lib/python3.11/site-packages (from sympy==1.13.1->torch) (1.3.0)\n",
      "Requirement already satisfied: MarkupSafe>=2.0 in /Users/minaz/anaconda3/lib/python3.11/site-packages (from jinja2->torch) (2.1.1)\n"
     ]
    }
   ],
   "source": [
    "!pip install torch "
   ]
  },
  {
   "cell_type": "code",
   "execution_count": 2,
   "id": "17e664d0-5f90-43da-a7a2-0118b94f60a3",
   "metadata": {
    "tags": []
   },
   "outputs": [
    {
     "name": "stdout",
     "output_type": "stream",
     "text": [
      "Requirement already satisfied: torchinfo in /Users/minaz/anaconda3/lib/python3.11/site-packages (1.8.0)\n",
      "Note: you may need to restart the kernel to use updated packages.\n"
     ]
    }
   ],
   "source": [
    "pip install torchinfo\n"
   ]
  },
  {
   "cell_type": "code",
   "execution_count": 3,
   "id": "25c0642f-2c17-4c38-a9c2-58aa6b809a76",
   "metadata": {
    "tags": []
   },
   "outputs": [],
   "source": [
    "import pandas as pd\n",
    "import numpy as np\n",
    "\n",
    "# we will require this pkg to save the .pkl for the best weights\n",
    "import pickle\n",
    "\n",
    "# below are used for plotting visuals\n",
    "import seaborn as sns\n",
    "import matplotlib.pyplot as plt\n",
    "import warnings"
   ]
  },
  {
   "cell_type": "code",
   "execution_count": 4,
   "id": "5023dfa5-748d-49cf-91ff-fd5bfb25c459",
   "metadata": {
    "tags": []
   },
   "outputs": [],
   "source": [
    "from sklearn.preprocessing import StandardScaler\n",
    "from sklearn.impute import SimpleImputer\n",
    "from sklearn.model_selection import train_test_split\n",
    "import torch\n",
    "import torch.nn as nn\n",
    "import torch.nn.functional as F\n",
    "from torchinfo import summary"
   ]
  },
  {
   "cell_type": "code",
   "execution_count": 47,
   "id": "ae8ec4e6-d930-4d3a-ba45-e05944455bc2",
   "metadata": {
    "tags": []
   },
   "outputs": [],
   "source": [
    " device = torch.device('cuda' if torch.cuda.is_available() else 'cpu')"
   ]
  },
  {
   "cell_type": "code",
   "execution_count": 5,
   "id": "1bddb94a-371f-4579-98d8-3a4a4e892c86",
   "metadata": {
    "tags": []
   },
   "outputs": [],
   "source": [
    "warnings.filterwarnings(\"ignore\")"
   ]
  },
  {
   "cell_type": "markdown",
   "id": "210a65fe-ebd8-48e3-bfd7-9500982cff76",
   "metadata": {},
   "source": [
    "## STEP I"
   ]
  },
  {
   "cell_type": "code",
   "execution_count": 6,
   "id": "71b6cf76-39e7-46b2-bd8f-293fed7e8023",
   "metadata": {
    "tags": []
   },
   "outputs": [],
   "source": [
    "# read the csv file\n",
    "df = pd.read_csv('datasets/dataset.csv')"
   ]
  },
  {
   "cell_type": "code",
   "execution_count": 7,
   "id": "1e85f420-0d6e-4ea6-b9d7-6a5615b195df",
   "metadata": {
    "tags": []
   },
   "outputs": [
    {
     "data": {
      "text/html": [
       "<div>\n",
       "<style scoped>\n",
       "    .dataframe tbody tr th:only-of-type {\n",
       "        vertical-align: middle;\n",
       "    }\n",
       "\n",
       "    .dataframe tbody tr th {\n",
       "        vertical-align: top;\n",
       "    }\n",
       "\n",
       "    .dataframe thead th {\n",
       "        text-align: right;\n",
       "    }\n",
       "</style>\n",
       "<table border=\"1\" class=\"dataframe\">\n",
       "  <thead>\n",
       "    <tr style=\"text-align: right;\">\n",
       "      <th></th>\n",
       "      <th>f1</th>\n",
       "      <th>f2</th>\n",
       "      <th>f3</th>\n",
       "      <th>f4</th>\n",
       "      <th>f5</th>\n",
       "      <th>f6</th>\n",
       "      <th>f7</th>\n",
       "      <th>target</th>\n",
       "    </tr>\n",
       "  </thead>\n",
       "  <tbody>\n",
       "    <tr>\n",
       "      <th>0</th>\n",
       "      <td>6</td>\n",
       "      <td>148</td>\n",
       "      <td>72</td>\n",
       "      <td>35</td>\n",
       "      <td>0</td>\n",
       "      <td>33.6</td>\n",
       "      <td>0.627</td>\n",
       "      <td>1</td>\n",
       "    </tr>\n",
       "    <tr>\n",
       "      <th>1</th>\n",
       "      <td>1</td>\n",
       "      <td>85</td>\n",
       "      <td>66</td>\n",
       "      <td>29</td>\n",
       "      <td>0</td>\n",
       "      <td>26.6</td>\n",
       "      <td>0.351</td>\n",
       "      <td>0</td>\n",
       "    </tr>\n",
       "    <tr>\n",
       "      <th>2</th>\n",
       "      <td>8</td>\n",
       "      <td>183</td>\n",
       "      <td>64</td>\n",
       "      <td>0</td>\n",
       "      <td>0</td>\n",
       "      <td>23.3</td>\n",
       "      <td>0.672</td>\n",
       "      <td>1</td>\n",
       "    </tr>\n",
       "    <tr>\n",
       "      <th>3</th>\n",
       "      <td>1</td>\n",
       "      <td>89</td>\n",
       "      <td>66</td>\n",
       "      <td>23</td>\n",
       "      <td>94</td>\n",
       "      <td>28.1</td>\n",
       "      <td>0.167</td>\n",
       "      <td>0</td>\n",
       "    </tr>\n",
       "    <tr>\n",
       "      <th>4</th>\n",
       "      <td>0</td>\n",
       "      <td>137</td>\n",
       "      <td>40</td>\n",
       "      <td>35</td>\n",
       "      <td>168</td>\n",
       "      <td>43.1</td>\n",
       "      <td>2.288</td>\n",
       "      <td>1</td>\n",
       "    </tr>\n",
       "    <tr>\n",
       "      <th>...</th>\n",
       "      <td>...</td>\n",
       "      <td>...</td>\n",
       "      <td>...</td>\n",
       "      <td>...</td>\n",
       "      <td>...</td>\n",
       "      <td>...</td>\n",
       "      <td>...</td>\n",
       "      <td>...</td>\n",
       "    </tr>\n",
       "    <tr>\n",
       "      <th>761</th>\n",
       "      <td>9</td>\n",
       "      <td>89</td>\n",
       "      <td>62</td>\n",
       "      <td>0</td>\n",
       "      <td>0</td>\n",
       "      <td>22.5</td>\n",
       "      <td>e</td>\n",
       "      <td>0</td>\n",
       "    </tr>\n",
       "    <tr>\n",
       "      <th>762</th>\n",
       "      <td>10</td>\n",
       "      <td>101</td>\n",
       "      <td>76</td>\n",
       "      <td>48</td>\n",
       "      <td>180</td>\n",
       "      <td>d</td>\n",
       "      <td>0.171</td>\n",
       "      <td>0</td>\n",
       "    </tr>\n",
       "    <tr>\n",
       "      <th>763</th>\n",
       "      <td>2</td>\n",
       "      <td>122</td>\n",
       "      <td>70</td>\n",
       "      <td>27</td>\n",
       "      <td>b</td>\n",
       "      <td>36.8</td>\n",
       "      <td>0.34</td>\n",
       "      <td>0</td>\n",
       "    </tr>\n",
       "    <tr>\n",
       "      <th>764</th>\n",
       "      <td>c</td>\n",
       "      <td>121</td>\n",
       "      <td>72</td>\n",
       "      <td>23</td>\n",
       "      <td>112</td>\n",
       "      <td>26.2</td>\n",
       "      <td>0.245</td>\n",
       "      <td>0</td>\n",
       "    </tr>\n",
       "    <tr>\n",
       "      <th>765</th>\n",
       "      <td>1</td>\n",
       "      <td>126</td>\n",
       "      <td>60</td>\n",
       "      <td>a</td>\n",
       "      <td>0</td>\n",
       "      <td>30.1</td>\n",
       "      <td>0.349</td>\n",
       "      <td>1</td>\n",
       "    </tr>\n",
       "  </tbody>\n",
       "</table>\n",
       "<p>766 rows × 8 columns</p>\n",
       "</div>"
      ],
      "text/plain": [
       "     f1   f2  f3  f4   f5    f6     f7  target\n",
       "0     6  148  72  35    0  33.6  0.627       1\n",
       "1     1   85  66  29    0  26.6  0.351       0\n",
       "2     8  183  64   0    0  23.3  0.672       1\n",
       "3     1   89  66  23   94  28.1  0.167       0\n",
       "4     0  137  40  35  168  43.1  2.288       1\n",
       "..   ..  ...  ..  ..  ...   ...    ...     ...\n",
       "761   9   89  62   0    0  22.5      e       0\n",
       "762  10  101  76  48  180     d  0.171       0\n",
       "763   2  122  70  27    b  36.8   0.34       0\n",
       "764   c  121  72  23  112  26.2  0.245       0\n",
       "765   1  126  60   a    0  30.1  0.349       1\n",
       "\n",
       "[766 rows x 8 columns]"
      ]
     },
     "execution_count": 7,
     "metadata": {},
     "output_type": "execute_result"
    }
   ],
   "source": [
    "df"
   ]
  },
  {
   "cell_type": "code",
   "execution_count": 8,
   "id": "66dcca69-cc57-4e0f-bb9d-d81ca3e09847",
   "metadata": {
    "tags": []
   },
   "outputs": [
    {
     "data": {
      "text/html": [
       "<div>\n",
       "<style scoped>\n",
       "    .dataframe tbody tr th:only-of-type {\n",
       "        vertical-align: middle;\n",
       "    }\n",
       "\n",
       "    .dataframe tbody tr th {\n",
       "        vertical-align: top;\n",
       "    }\n",
       "\n",
       "    .dataframe thead th {\n",
       "        text-align: right;\n",
       "    }\n",
       "</style>\n",
       "<table border=\"1\" class=\"dataframe\">\n",
       "  <thead>\n",
       "    <tr style=\"text-align: right;\">\n",
       "      <th></th>\n",
       "      <th>f3</th>\n",
       "      <th>target</th>\n",
       "    </tr>\n",
       "  </thead>\n",
       "  <tbody>\n",
       "    <tr>\n",
       "      <th>count</th>\n",
       "      <td>766.000000</td>\n",
       "      <td>766.000000</td>\n",
       "    </tr>\n",
       "    <tr>\n",
       "      <th>mean</th>\n",
       "      <td>69.118799</td>\n",
       "      <td>0.349869</td>\n",
       "    </tr>\n",
       "    <tr>\n",
       "      <th>std</th>\n",
       "      <td>19.376901</td>\n",
       "      <td>0.477240</td>\n",
       "    </tr>\n",
       "    <tr>\n",
       "      <th>min</th>\n",
       "      <td>0.000000</td>\n",
       "      <td>0.000000</td>\n",
       "    </tr>\n",
       "    <tr>\n",
       "      <th>25%</th>\n",
       "      <td>62.500000</td>\n",
       "      <td>0.000000</td>\n",
       "    </tr>\n",
       "    <tr>\n",
       "      <th>50%</th>\n",
       "      <td>72.000000</td>\n",
       "      <td>0.000000</td>\n",
       "    </tr>\n",
       "    <tr>\n",
       "      <th>75%</th>\n",
       "      <td>80.000000</td>\n",
       "      <td>1.000000</td>\n",
       "    </tr>\n",
       "    <tr>\n",
       "      <th>max</th>\n",
       "      <td>122.000000</td>\n",
       "      <td>1.000000</td>\n",
       "    </tr>\n",
       "  </tbody>\n",
       "</table>\n",
       "</div>"
      ],
      "text/plain": [
       "               f3      target\n",
       "count  766.000000  766.000000\n",
       "mean    69.118799    0.349869\n",
       "std     19.376901    0.477240\n",
       "min      0.000000    0.000000\n",
       "25%     62.500000    0.000000\n",
       "50%     72.000000    0.000000\n",
       "75%     80.000000    1.000000\n",
       "max    122.000000    1.000000"
      ]
     },
     "execution_count": 8,
     "metadata": {},
     "output_type": "execute_result"
    }
   ],
   "source": [
    "# basic stats on the df\n",
    "df.describe()"
   ]
  },
  {
   "cell_type": "code",
   "execution_count": 9,
   "id": "890855e5-932a-4e67-9615-2eadb0126ea4",
   "metadata": {
    "tags": []
   },
   "outputs": [
    {
     "data": {
      "text/plain": [
       "f1        object\n",
       "f2        object\n",
       "f3         int64\n",
       "f4        object\n",
       "f5        object\n",
       "f6        object\n",
       "f7        object\n",
       "target     int64\n",
       "dtype: object"
      ]
     },
     "execution_count": 9,
     "metadata": {},
     "output_type": "execute_result"
    }
   ],
   "source": [
    "# we see that not all columns are numeric\n",
    "df.dtypes"
   ]
  },
  {
   "cell_type": "code",
   "execution_count": 10,
   "id": "731ba277-12e7-493f-83b0-af8e5db37ecc",
   "metadata": {
    "tags": []
   },
   "outputs": [
    {
     "name": "stdout",
     "output_type": "stream",
     "text": [
      "Non-numeric entries detected:\n",
      "{'f1': array(['c'], dtype=object), 'f2': array(['f'], dtype=object), 'f4': array(['a'], dtype=object), 'f5': array(['b'], dtype=object), 'f6': array(['d'], dtype=object), 'f7': array(['e'], dtype=object)}\n"
     ]
    }
   ],
   "source": [
    "# figure out the non numeric entries in our df\n",
    "invalid_entries = {}\n",
    "\n",
    "for col in df.columns:\n",
    "    if df[col].dtype == 'object':\n",
    "        invalid_values = df[col][pd.to_numeric(df[col], errors='coerce').isna()].unique()\n",
    "        if len(invalid_values) > 0:\n",
    "            invalid_entries[col] = invalid_values\n",
    "\n",
    "print(\"Non-numeric entries detected:\")\n",
    "print(invalid_entries)"
   ]
  },
  {
   "cell_type": "code",
   "execution_count": 11,
   "id": "b9cdea11-6792-493d-af62-314c7a45f54f",
   "metadata": {
    "tags": []
   },
   "outputs": [],
   "source": [
    "# replace them with NA\n",
    "df = df.replace(['a', 'b', 'c', 'd', 'e', 'f'], pd.NA)\n"
   ]
  },
  {
   "cell_type": "code",
   "execution_count": 12,
   "id": "c1783754-501e-4683-a135-b4e8d7454607",
   "metadata": {
    "tags": []
   },
   "outputs": [],
   "source": [
    "# make the cols numeric\n",
    "df['f1'] = pd.to_numeric(df['f1'], errors='coerce')\n",
    "df['f2'] = pd.to_numeric(df['f2'], errors='coerce')\n",
    "df['f4'] = pd.to_numeric(df['f4'], errors='coerce')\n",
    "df['f5'] = pd.to_numeric(df['f5'], errors='coerce')\n",
    "df['f6'] = pd.to_numeric(df['f6'], errors='coerce')\n",
    "df['f7'] = pd.to_numeric(df['f7'], errors='coerce')"
   ]
  },
  {
   "cell_type": "code",
   "execution_count": 13,
   "id": "c87761d9-e8cb-41f1-8b9f-950e140fac3a",
   "metadata": {
    "tags": []
   },
   "outputs": [
    {
     "data": {
      "text/html": [
       "<div>\n",
       "<style scoped>\n",
       "    .dataframe tbody tr th:only-of-type {\n",
       "        vertical-align: middle;\n",
       "    }\n",
       "\n",
       "    .dataframe tbody tr th {\n",
       "        vertical-align: top;\n",
       "    }\n",
       "\n",
       "    .dataframe thead th {\n",
       "        text-align: right;\n",
       "    }\n",
       "</style>\n",
       "<table border=\"1\" class=\"dataframe\">\n",
       "  <thead>\n",
       "    <tr style=\"text-align: right;\">\n",
       "      <th></th>\n",
       "      <th>f1</th>\n",
       "      <th>f2</th>\n",
       "      <th>f3</th>\n",
       "      <th>f4</th>\n",
       "      <th>f5</th>\n",
       "      <th>f6</th>\n",
       "      <th>f7</th>\n",
       "      <th>target</th>\n",
       "    </tr>\n",
       "  </thead>\n",
       "  <tbody>\n",
       "    <tr>\n",
       "      <th>0</th>\n",
       "      <td>6.0</td>\n",
       "      <td>148.0</td>\n",
       "      <td>72</td>\n",
       "      <td>35.0</td>\n",
       "      <td>0.0</td>\n",
       "      <td>33.6</td>\n",
       "      <td>0.627</td>\n",
       "      <td>1</td>\n",
       "    </tr>\n",
       "    <tr>\n",
       "      <th>1</th>\n",
       "      <td>1.0</td>\n",
       "      <td>85.0</td>\n",
       "      <td>66</td>\n",
       "      <td>29.0</td>\n",
       "      <td>0.0</td>\n",
       "      <td>26.6</td>\n",
       "      <td>0.351</td>\n",
       "      <td>0</td>\n",
       "    </tr>\n",
       "    <tr>\n",
       "      <th>2</th>\n",
       "      <td>8.0</td>\n",
       "      <td>183.0</td>\n",
       "      <td>64</td>\n",
       "      <td>0.0</td>\n",
       "      <td>0.0</td>\n",
       "      <td>23.3</td>\n",
       "      <td>0.672</td>\n",
       "      <td>1</td>\n",
       "    </tr>\n",
       "    <tr>\n",
       "      <th>3</th>\n",
       "      <td>1.0</td>\n",
       "      <td>89.0</td>\n",
       "      <td>66</td>\n",
       "      <td>23.0</td>\n",
       "      <td>94.0</td>\n",
       "      <td>28.1</td>\n",
       "      <td>0.167</td>\n",
       "      <td>0</td>\n",
       "    </tr>\n",
       "    <tr>\n",
       "      <th>4</th>\n",
       "      <td>0.0</td>\n",
       "      <td>137.0</td>\n",
       "      <td>40</td>\n",
       "      <td>35.0</td>\n",
       "      <td>168.0</td>\n",
       "      <td>43.1</td>\n",
       "      <td>2.288</td>\n",
       "      <td>1</td>\n",
       "    </tr>\n",
       "    <tr>\n",
       "      <th>...</th>\n",
       "      <td>...</td>\n",
       "      <td>...</td>\n",
       "      <td>...</td>\n",
       "      <td>...</td>\n",
       "      <td>...</td>\n",
       "      <td>...</td>\n",
       "      <td>...</td>\n",
       "      <td>...</td>\n",
       "    </tr>\n",
       "    <tr>\n",
       "      <th>761</th>\n",
       "      <td>9.0</td>\n",
       "      <td>89.0</td>\n",
       "      <td>62</td>\n",
       "      <td>0.0</td>\n",
       "      <td>0.0</td>\n",
       "      <td>22.5</td>\n",
       "      <td>NaN</td>\n",
       "      <td>0</td>\n",
       "    </tr>\n",
       "    <tr>\n",
       "      <th>762</th>\n",
       "      <td>10.0</td>\n",
       "      <td>101.0</td>\n",
       "      <td>76</td>\n",
       "      <td>48.0</td>\n",
       "      <td>180.0</td>\n",
       "      <td>NaN</td>\n",
       "      <td>0.171</td>\n",
       "      <td>0</td>\n",
       "    </tr>\n",
       "    <tr>\n",
       "      <th>763</th>\n",
       "      <td>2.0</td>\n",
       "      <td>122.0</td>\n",
       "      <td>70</td>\n",
       "      <td>27.0</td>\n",
       "      <td>NaN</td>\n",
       "      <td>36.8</td>\n",
       "      <td>0.340</td>\n",
       "      <td>0</td>\n",
       "    </tr>\n",
       "    <tr>\n",
       "      <th>764</th>\n",
       "      <td>NaN</td>\n",
       "      <td>121.0</td>\n",
       "      <td>72</td>\n",
       "      <td>23.0</td>\n",
       "      <td>112.0</td>\n",
       "      <td>26.2</td>\n",
       "      <td>0.245</td>\n",
       "      <td>0</td>\n",
       "    </tr>\n",
       "    <tr>\n",
       "      <th>765</th>\n",
       "      <td>1.0</td>\n",
       "      <td>126.0</td>\n",
       "      <td>60</td>\n",
       "      <td>NaN</td>\n",
       "      <td>0.0</td>\n",
       "      <td>30.1</td>\n",
       "      <td>0.349</td>\n",
       "      <td>1</td>\n",
       "    </tr>\n",
       "  </tbody>\n",
       "</table>\n",
       "<p>766 rows × 8 columns</p>\n",
       "</div>"
      ],
      "text/plain": [
       "       f1     f2  f3    f4     f5    f6     f7  target\n",
       "0     6.0  148.0  72  35.0    0.0  33.6  0.627       1\n",
       "1     1.0   85.0  66  29.0    0.0  26.6  0.351       0\n",
       "2     8.0  183.0  64   0.0    0.0  23.3  0.672       1\n",
       "3     1.0   89.0  66  23.0   94.0  28.1  0.167       0\n",
       "4     0.0  137.0  40  35.0  168.0  43.1  2.288       1\n",
       "..    ...    ...  ..   ...    ...   ...    ...     ...\n",
       "761   9.0   89.0  62   0.0    0.0  22.5    NaN       0\n",
       "762  10.0  101.0  76  48.0  180.0   NaN  0.171       0\n",
       "763   2.0  122.0  70  27.0    NaN  36.8  0.340       0\n",
       "764   NaN  121.0  72  23.0  112.0  26.2  0.245       0\n",
       "765   1.0  126.0  60   NaN    0.0  30.1  0.349       1\n",
       "\n",
       "[766 rows x 8 columns]"
      ]
     },
     "execution_count": 13,
     "metadata": {},
     "output_type": "execute_result"
    }
   ],
   "source": [
    "df"
   ]
  },
  {
   "cell_type": "code",
   "execution_count": 14,
   "id": "5a3d45a0-d8ec-42f4-ab2a-0a8c835a5170",
   "metadata": {
    "tags": []
   },
   "outputs": [
    {
     "name": "stdout",
     "output_type": "stream",
     "text": [
      "Totol NAN Values in each feature\n",
      " f1        1\n",
      "f2        1\n",
      "f3        0\n",
      "f4        1\n",
      "f5        1\n",
      "f6        1\n",
      "f7        1\n",
      "target    0\n",
      "dtype: int64\n"
     ]
    }
   ],
   "source": [
    "# find out the NAN values in each col, We will impute them with mean using simple imputer in Step 2\n",
    "print(\"Totol NAN Values in each feature\\n\", df.isna().sum())\n"
   ]
  },
  {
   "cell_type": "code",
   "execution_count": 15,
   "id": "f988914d-79fd-4105-942d-563381aa109b",
   "metadata": {
    "tags": []
   },
   "outputs": [
    {
     "name": "stdout",
     "output_type": "stream",
     "text": [
      "Unique values in the target [1 0]\n"
     ]
    }
   ],
   "source": [
    "# do we needd to preprocess our target for categorical cleaning?\n",
    "\n",
    "print(f\"Unique values in the target\", df['target'].unique())"
   ]
  },
  {
   "cell_type": "code",
   "execution_count": 16,
   "id": "0365676d-11a0-401b-ab8d-3a3edaa7539e",
   "metadata": {
    "tags": []
   },
   "outputs": [],
   "source": [
    "# we doont need to preprocess traget col theres only 2 values (binary 0 and 1)"
   ]
  },
  {
   "cell_type": "code",
   "execution_count": 17,
   "id": "eafda169-2040-4f8b-9111-8ae07a952543",
   "metadata": {
    "tags": []
   },
   "outputs": [
    {
     "data": {
      "image/png": "[encoded data removed]",
      "text/plain": [
       "<Figure size 800x600 with 1 Axes>"
      ]
     },
     "metadata": {},
     "output_type": "display_data"
    }
   ],
   "source": [
    "# F2 histogram\n",
    "plt.figure(figsize=(8, 6))\n",
    "plt.hist(df['f2'].dropna(), bins=20, color='blue', edgecolor='black')\n",
    "plt.title('Distribution of f2')\n",
    "plt.xlabel('f2 values')\n",
    "plt.ylabel('Frequency')\n",
    "plt.show()\n"
   ]
  },
  {
   "cell_type": "code",
   "execution_count": 18,
   "id": "3a49772c-17d0-4c03-9e8a-fde73eb81948",
   "metadata": {
    "tags": []
   },
   "outputs": [
    {
     "data": {
      "image/png": "[encoded data removed]",
      "text/plain": [
       "<Figure size 800x600 with 1 Axes>"
      ]
     },
     "metadata": {},
     "output_type": "display_data"
    }
   ],
   "source": [
    "# f3 and f6 scatter plot\n",
    "plt.figure(figsize=(8, 6))\n",
    "plt.scatter(df['f3'], df['f6'], color='green')\n",
    "plt.title('Scatter plot of f3 vs f6')\n",
    "plt.xlabel('f3')\n",
    "plt.ylabel('f6')\n",
    "plt.show()\n",
    "\n"
   ]
  },
  {
   "cell_type": "code",
   "execution_count": 19,
   "id": "e3c1e37e-fc79-4949-8b47-ef9da5897493",
   "metadata": {
    "tags": []
   },
   "outputs": [
    {
     "data": {
      "text/plain": [
       "<Figure size 800x600 with 0 Axes>"
      ]
     },
     "metadata": {},
     "output_type": "display_data"
    },
    {
     "data": {
      "image/png": "[encoded data removed]",
      "text/plain": [
       "<Figure size 640x480 with 1 Axes>"
      ]
     },
     "metadata": {},
     "output_type": "display_data"
    }
   ],
   "source": [
    "# f1 boxplot\n",
    "plt.figure(figsize=(8, 6))\n",
    "df.boxplot(column='f1', by='target', grid=False)\n",
    "plt.title('Boxplot of f1 by Target')\n",
    "plt.suptitle('')\n",
    "plt.xlabel('Target')\n",
    "plt.ylabel('f1 values')\n",
    "plt.show()"
   ]
  },
  {
   "cell_type": "markdown",
   "id": "85cb2c4d-e0a7-4e16-86f6-c2df27c84f0e",
   "metadata": {},
   "source": [
    "---"
   ]
  },
  {
   "cell_type": "markdown",
   "id": "83562496-52fc-4e47-a128-ce520493d9da",
   "metadata": {},
   "source": [
    "# STEP 2"
   ]
  },
  {
   "cell_type": "code",
   "execution_count": 20,
   "id": "22558edc-de7e-4bb5-b0ff-ff739a9596f9",
   "metadata": {
    "tags": []
   },
   "outputs": [],
   "source": [
    "X = df.drop('target', axis=1)\n",
    "y = df['target']\n"
   ]
  },
  {
   "cell_type": "code",
   "execution_count": 21,
   "id": "03d01cd2-6912-47cb-a8fb-b4321c2a9436",
   "metadata": {
    "tags": []
   },
   "outputs": [
    {
     "data": {
      "text/html": [
       "<div>\n",
       "<style scoped>\n",
       "    .dataframe tbody tr th:only-of-type {\n",
       "        vertical-align: middle;\n",
       "    }\n",
       "\n",
       "    .dataframe tbody tr th {\n",
       "        vertical-align: top;\n",
       "    }\n",
       "\n",
       "    .dataframe thead th {\n",
       "        text-align: right;\n",
       "    }\n",
       "</style>\n",
       "<table border=\"1\" class=\"dataframe\">\n",
       "  <thead>\n",
       "    <tr style=\"text-align: right;\">\n",
       "      <th></th>\n",
       "      <th>f1</th>\n",
       "      <th>f2</th>\n",
       "      <th>f3</th>\n",
       "      <th>f4</th>\n",
       "      <th>f5</th>\n",
       "      <th>f6</th>\n",
       "      <th>f7</th>\n",
       "    </tr>\n",
       "  </thead>\n",
       "  <tbody>\n",
       "    <tr>\n",
       "      <th>0</th>\n",
       "      <td>6.0</td>\n",
       "      <td>148.0</td>\n",
       "      <td>72</td>\n",
       "      <td>35.0</td>\n",
       "      <td>0.0</td>\n",
       "      <td>33.6</td>\n",
       "      <td>0.627</td>\n",
       "    </tr>\n",
       "    <tr>\n",
       "      <th>1</th>\n",
       "      <td>1.0</td>\n",
       "      <td>85.0</td>\n",
       "      <td>66</td>\n",
       "      <td>29.0</td>\n",
       "      <td>0.0</td>\n",
       "      <td>26.6</td>\n",
       "      <td>0.351</td>\n",
       "    </tr>\n",
       "    <tr>\n",
       "      <th>2</th>\n",
       "      <td>8.0</td>\n",
       "      <td>183.0</td>\n",
       "      <td>64</td>\n",
       "      <td>0.0</td>\n",
       "      <td>0.0</td>\n",
       "      <td>23.3</td>\n",
       "      <td>0.672</td>\n",
       "    </tr>\n",
       "    <tr>\n",
       "      <th>3</th>\n",
       "      <td>1.0</td>\n",
       "      <td>89.0</td>\n",
       "      <td>66</td>\n",
       "      <td>23.0</td>\n",
       "      <td>94.0</td>\n",
       "      <td>28.1</td>\n",
       "      <td>0.167</td>\n",
       "    </tr>\n",
       "    <tr>\n",
       "      <th>4</th>\n",
       "      <td>0.0</td>\n",
       "      <td>137.0</td>\n",
       "      <td>40</td>\n",
       "      <td>35.0</td>\n",
       "      <td>168.0</td>\n",
       "      <td>43.1</td>\n",
       "      <td>2.288</td>\n",
       "    </tr>\n",
       "    <tr>\n",
       "      <th>...</th>\n",
       "      <td>...</td>\n",
       "      <td>...</td>\n",
       "      <td>...</td>\n",
       "      <td>...</td>\n",
       "      <td>...</td>\n",
       "      <td>...</td>\n",
       "      <td>...</td>\n",
       "    </tr>\n",
       "    <tr>\n",
       "      <th>761</th>\n",
       "      <td>9.0</td>\n",
       "      <td>89.0</td>\n",
       "      <td>62</td>\n",
       "      <td>0.0</td>\n",
       "      <td>0.0</td>\n",
       "      <td>22.5</td>\n",
       "      <td>NaN</td>\n",
       "    </tr>\n",
       "    <tr>\n",
       "      <th>762</th>\n",
       "      <td>10.0</td>\n",
       "      <td>101.0</td>\n",
       "      <td>76</td>\n",
       "      <td>48.0</td>\n",
       "      <td>180.0</td>\n",
       "      <td>NaN</td>\n",
       "      <td>0.171</td>\n",
       "    </tr>\n",
       "    <tr>\n",
       "      <th>763</th>\n",
       "      <td>2.0</td>\n",
       "      <td>122.0</td>\n",
       "      <td>70</td>\n",
       "      <td>27.0</td>\n",
       "      <td>NaN</td>\n",
       "      <td>36.8</td>\n",
       "      <td>0.340</td>\n",
       "    </tr>\n",
       "    <tr>\n",
       "      <th>764</th>\n",
       "      <td>NaN</td>\n",
       "      <td>121.0</td>\n",
       "      <td>72</td>\n",
       "      <td>23.0</td>\n",
       "      <td>112.0</td>\n",
       "      <td>26.2</td>\n",
       "      <td>0.245</td>\n",
       "    </tr>\n",
       "    <tr>\n",
       "      <th>765</th>\n",
       "      <td>1.0</td>\n",
       "      <td>126.0</td>\n",
       "      <td>60</td>\n",
       "      <td>NaN</td>\n",
       "      <td>0.0</td>\n",
       "      <td>30.1</td>\n",
       "      <td>0.349</td>\n",
       "    </tr>\n",
       "  </tbody>\n",
       "</table>\n",
       "<p>766 rows × 7 columns</p>\n",
       "</div>"
      ],
      "text/plain": [
       "       f1     f2  f3    f4     f5    f6     f7\n",
       "0     6.0  148.0  72  35.0    0.0  33.6  0.627\n",
       "1     1.0   85.0  66  29.0    0.0  26.6  0.351\n",
       "2     8.0  183.0  64   0.0    0.0  23.3  0.672\n",
       "3     1.0   89.0  66  23.0   94.0  28.1  0.167\n",
       "4     0.0  137.0  40  35.0  168.0  43.1  2.288\n",
       "..    ...    ...  ..   ...    ...   ...    ...\n",
       "761   9.0   89.0  62   0.0    0.0  22.5    NaN\n",
       "762  10.0  101.0  76  48.0  180.0   NaN  0.171\n",
       "763   2.0  122.0  70  27.0    NaN  36.8  0.340\n",
       "764   NaN  121.0  72  23.0  112.0  26.2  0.245\n",
       "765   1.0  126.0  60   NaN    0.0  30.1  0.349\n",
       "\n",
       "[766 rows x 7 columns]"
      ]
     },
     "execution_count": 21,
     "metadata": {},
     "output_type": "execute_result"
    }
   ],
   "source": [
    "X \n"
   ]
  },
  {
   "cell_type": "code",
   "execution_count": 22,
   "id": "06650bf6-0e1d-4f07-93d7-bd674c883c0d",
   "metadata": {
    "tags": []
   },
   "outputs": [
    {
     "data": {
      "text/plain": [
       "0      1\n",
       "1      0\n",
       "2      1\n",
       "3      0\n",
       "4      1\n",
       "      ..\n",
       "761    0\n",
       "762    0\n",
       "763    0\n",
       "764    0\n",
       "765    1\n",
       "Name: target, Length: 766, dtype: int64"
      ]
     },
     "execution_count": 22,
     "metadata": {},
     "output_type": "execute_result"
    }
   ],
   "source": [
    "y"
   ]
  },
  {
   "cell_type": "code",
   "execution_count": 23,
   "id": "f169c189-e371-4911-814f-72f06dbd7b3b",
   "metadata": {
    "tags": []
   },
   "outputs": [
    {
     "name": "stdout",
     "output_type": "stream",
     "text": [
      "['f1', 'f2', 'f3', 'f4', 'f5', 'f6', 'f7']\n"
     ]
    }
   ],
   "source": [
    "numcols = X.select_dtypes(include=['int64', 'float64']).columns\n",
    "print(numcols.tolist())"
   ]
  },
  {
   "cell_type": "code",
   "execution_count": 24,
   "id": "be355af5-ea13-44d8-8bd3-4335dd841bba",
   "metadata": {
    "tags": []
   },
   "outputs": [],
   "source": [
    "scaler = StandardScaler()\n",
    "X[numcols] = scaler.fit_transform(X[numcols])"
   ]
  },
  {
   "cell_type": "code",
   "execution_count": 25,
   "id": "1c8d8430-cb23-4b38-ae40-253642d83809",
   "metadata": {
    "tags": []
   },
   "outputs": [
    {
     "data": {
      "text/html": [
       "<div>\n",
       "<style scoped>\n",
       "    .dataframe tbody tr th:only-of-type {\n",
       "        vertical-align: middle;\n",
       "    }\n",
       "\n",
       "    .dataframe tbody tr th {\n",
       "        vertical-align: top;\n",
       "    }\n",
       "\n",
       "    .dataframe thead th {\n",
       "        text-align: right;\n",
       "    }\n",
       "</style>\n",
       "<table border=\"1\" class=\"dataframe\">\n",
       "  <thead>\n",
       "    <tr style=\"text-align: right;\">\n",
       "      <th></th>\n",
       "      <th>f1</th>\n",
       "      <th>f2</th>\n",
       "      <th>f3</th>\n",
       "      <th>f4</th>\n",
       "      <th>f5</th>\n",
       "      <th>f6</th>\n",
       "      <th>f7</th>\n",
       "    </tr>\n",
       "  </thead>\n",
       "  <tbody>\n",
       "    <tr>\n",
       "      <th>0</th>\n",
       "      <td>0.637797</td>\n",
       "      <td>0.848503</td>\n",
       "      <td>0.148790</td>\n",
       "      <td>0.906423</td>\n",
       "      <td>-0.694642</td>\n",
       "      <td>0.202940</td>\n",
       "      <td>0.467428</td>\n",
       "    </tr>\n",
       "    <tr>\n",
       "      <th>1</th>\n",
       "      <td>-0.845227</td>\n",
       "      <td>-1.124745</td>\n",
       "      <td>-0.161060</td>\n",
       "      <td>0.530249</td>\n",
       "      <td>-0.694642</td>\n",
       "      <td>-0.683909</td>\n",
       "      <td>-0.365584</td>\n",
       "    </tr>\n",
       "    <tr>\n",
       "      <th>2</th>\n",
       "      <td>1.231007</td>\n",
       "      <td>1.944752</td>\n",
       "      <td>-0.264343</td>\n",
       "      <td>-1.287924</td>\n",
       "      <td>-0.694642</td>\n",
       "      <td>-1.101995</td>\n",
       "      <td>0.603245</td>\n",
       "    </tr>\n",
       "    <tr>\n",
       "      <th>3</th>\n",
       "      <td>-0.845227</td>\n",
       "      <td>-0.999460</td>\n",
       "      <td>-0.161060</td>\n",
       "      <td>0.154075</td>\n",
       "      <td>0.120630</td>\n",
       "      <td>-0.493870</td>\n",
       "      <td>-0.920925</td>\n",
       "    </tr>\n",
       "    <tr>\n",
       "      <th>4</th>\n",
       "      <td>-1.141831</td>\n",
       "      <td>0.503967</td>\n",
       "      <td>-1.503740</td>\n",
       "      <td>0.906423</td>\n",
       "      <td>0.762440</td>\n",
       "      <td>1.406521</td>\n",
       "      <td>5.480591</td>\n",
       "    </tr>\n",
       "    <tr>\n",
       "      <th>...</th>\n",
       "      <td>...</td>\n",
       "      <td>...</td>\n",
       "      <td>...</td>\n",
       "      <td>...</td>\n",
       "      <td>...</td>\n",
       "      <td>...</td>\n",
       "      <td>...</td>\n",
       "    </tr>\n",
       "    <tr>\n",
       "      <th>761</th>\n",
       "      <td>1.527612</td>\n",
       "      <td>-0.999460</td>\n",
       "      <td>-0.367626</td>\n",
       "      <td>-1.287924</td>\n",
       "      <td>-0.694642</td>\n",
       "      <td>-1.203349</td>\n",
       "      <td>NaN</td>\n",
       "    </tr>\n",
       "    <tr>\n",
       "      <th>762</th>\n",
       "      <td>1.824216</td>\n",
       "      <td>-0.623603</td>\n",
       "      <td>0.355356</td>\n",
       "      <td>1.721466</td>\n",
       "      <td>0.866517</td>\n",
       "      <td>NaN</td>\n",
       "      <td>-0.908853</td>\n",
       "    </tr>\n",
       "    <tr>\n",
       "      <th>763</th>\n",
       "      <td>-0.548622</td>\n",
       "      <td>0.034146</td>\n",
       "      <td>0.045507</td>\n",
       "      <td>0.404858</td>\n",
       "      <td>NaN</td>\n",
       "      <td>0.608357</td>\n",
       "      <td>-0.398784</td>\n",
       "    </tr>\n",
       "    <tr>\n",
       "      <th>764</th>\n",
       "      <td>NaN</td>\n",
       "      <td>0.002825</td>\n",
       "      <td>0.148790</td>\n",
       "      <td>0.154075</td>\n",
       "      <td>0.276746</td>\n",
       "      <td>-0.734586</td>\n",
       "      <td>-0.685509</td>\n",
       "    </tr>\n",
       "    <tr>\n",
       "      <th>765</th>\n",
       "      <td>-0.845227</td>\n",
       "      <td>0.159432</td>\n",
       "      <td>-0.470909</td>\n",
       "      <td>NaN</td>\n",
       "      <td>-0.694642</td>\n",
       "      <td>-0.240484</td>\n",
       "      <td>-0.371620</td>\n",
       "    </tr>\n",
       "  </tbody>\n",
       "</table>\n",
       "<p>766 rows × 7 columns</p>\n",
       "</div>"
      ],
      "text/plain": [
       "           f1        f2        f3        f4        f5        f6        f7\n",
       "0    0.637797  0.848503  0.148790  0.906423 -0.694642  0.202940  0.467428\n",
       "1   -0.845227 -1.124745 -0.161060  0.530249 -0.694642 -0.683909 -0.365584\n",
       "2    1.231007  1.944752 -0.264343 -1.287924 -0.694642 -1.101995  0.603245\n",
       "3   -0.845227 -0.999460 -0.161060  0.154075  0.120630 -0.493870 -0.920925\n",
       "4   -1.141831  0.503967 -1.503740  0.906423  0.762440  1.406521  5.480591\n",
       "..        ...       ...       ...       ...       ...       ...       ...\n",
       "761  1.527612 -0.999460 -0.367626 -1.287924 -0.694642 -1.203349       NaN\n",
       "762  1.824216 -0.623603  0.355356  1.721466  0.866517       NaN -0.908853\n",
       "763 -0.548622  0.034146  0.045507  0.404858       NaN  0.608357 -0.398784\n",
       "764       NaN  0.002825  0.148790  0.154075  0.276746 -0.734586 -0.685509\n",
       "765 -0.845227  0.159432 -0.470909       NaN -0.694642 -0.240484 -0.371620\n",
       "\n",
       "[766 rows x 7 columns]"
      ]
     },
     "execution_count": 25,
     "metadata": {},
     "output_type": "execute_result"
    }
   ],
   "source": [
    "X"
   ]
  },
  {
   "cell_type": "code",
   "execution_count": 26,
   "id": "dd61952d-f546-4d85-b611-f6fcdf16e604",
   "metadata": {
    "tags": []
   },
   "outputs": [],
   "source": [
    "imputer = SimpleImputer(strategy='mean')\n",
    "X[numcols] = imputer.fit_transform(X[numcols])"
   ]
  },
  {
   "cell_type": "code",
   "execution_count": 27,
   "id": "c037ce10-2027-4c5f-8288-8e94476fc38c",
   "metadata": {
    "tags": []
   },
   "outputs": [
    {
     "data": {
      "text/html": [
       "<div>\n",
       "<style scoped>\n",
       "    .dataframe tbody tr th:only-of-type {\n",
       "        vertical-align: middle;\n",
       "    }\n",
       "\n",
       "    .dataframe tbody tr th {\n",
       "        vertical-align: top;\n",
       "    }\n",
       "\n",
       "    .dataframe thead th {\n",
       "        text-align: right;\n",
       "    }\n",
       "</style>\n",
       "<table border=\"1\" class=\"dataframe\">\n",
       "  <thead>\n",
       "    <tr style=\"text-align: right;\">\n",
       "      <th></th>\n",
       "      <th>f1</th>\n",
       "      <th>f2</th>\n",
       "      <th>f3</th>\n",
       "      <th>f4</th>\n",
       "      <th>f5</th>\n",
       "      <th>f6</th>\n",
       "      <th>f7</th>\n",
       "    </tr>\n",
       "  </thead>\n",
       "  <tbody>\n",
       "    <tr>\n",
       "      <th>0</th>\n",
       "      <td>6.377972e-01</td>\n",
       "      <td>0.848503</td>\n",
       "      <td>0.148790</td>\n",
       "      <td>9.064228e-01</td>\n",
       "      <td>-6.946421e-01</td>\n",
       "      <td>2.029403e-01</td>\n",
       "      <td>4.674281e-01</td>\n",
       "    </tr>\n",
       "    <tr>\n",
       "      <th>1</th>\n",
       "      <td>-8.452267e-01</td>\n",
       "      <td>-1.124745</td>\n",
       "      <td>-0.161060</td>\n",
       "      <td>5.302491e-01</td>\n",
       "      <td>-6.946421e-01</td>\n",
       "      <td>-6.839090e-01</td>\n",
       "      <td>-3.655839e-01</td>\n",
       "    </tr>\n",
       "    <tr>\n",
       "      <th>2</th>\n",
       "      <td>1.231007e+00</td>\n",
       "      <td>1.944752</td>\n",
       "      <td>-0.264343</td>\n",
       "      <td>-1.287924e+00</td>\n",
       "      <td>-6.946421e-01</td>\n",
       "      <td>-1.101995e+00</td>\n",
       "      <td>6.032453e-01</td>\n",
       "    </tr>\n",
       "    <tr>\n",
       "      <th>3</th>\n",
       "      <td>-8.452267e-01</td>\n",
       "      <td>-0.999460</td>\n",
       "      <td>-0.161060</td>\n",
       "      <td>1.540755e-01</td>\n",
       "      <td>1.206299e-01</td>\n",
       "      <td>-4.938699e-01</td>\n",
       "      <td>-9.209253e-01</td>\n",
       "    </tr>\n",
       "    <tr>\n",
       "      <th>4</th>\n",
       "      <td>-1.141831e+00</td>\n",
       "      <td>0.503967</td>\n",
       "      <td>-1.503740</td>\n",
       "      <td>9.064228e-01</td>\n",
       "      <td>7.624397e-01</td>\n",
       "      <td>1.406521e+00</td>\n",
       "      <td>5.480591e+00</td>\n",
       "    </tr>\n",
       "    <tr>\n",
       "      <th>...</th>\n",
       "      <td>...</td>\n",
       "      <td>...</td>\n",
       "      <td>...</td>\n",
       "      <td>...</td>\n",
       "      <td>...</td>\n",
       "      <td>...</td>\n",
       "      <td>...</td>\n",
       "    </tr>\n",
       "    <tr>\n",
       "      <th>761</th>\n",
       "      <td>1.527612e+00</td>\n",
       "      <td>-0.999460</td>\n",
       "      <td>-0.367626</td>\n",
       "      <td>-1.287924e+00</td>\n",
       "      <td>-6.946421e-01</td>\n",
       "      <td>-1.203349e+00</td>\n",
       "      <td>-3.018646e-17</td>\n",
       "    </tr>\n",
       "    <tr>\n",
       "      <th>762</th>\n",
       "      <td>1.824216e+00</td>\n",
       "      <td>-0.623603</td>\n",
       "      <td>0.355356</td>\n",
       "      <td>1.721466e+00</td>\n",
       "      <td>8.665170e-01</td>\n",
       "      <td>7.894919e-17</td>\n",
       "      <td>-9.088527e-01</td>\n",
       "    </tr>\n",
       "    <tr>\n",
       "      <th>763</th>\n",
       "      <td>-5.486219e-01</td>\n",
       "      <td>0.034146</td>\n",
       "      <td>0.045507</td>\n",
       "      <td>4.048579e-01</td>\n",
       "      <td>-5.166528e-17</td>\n",
       "      <td>6.083571e-01</td>\n",
       "      <td>-3.987837e-01</td>\n",
       "    </tr>\n",
       "    <tr>\n",
       "      <th>764</th>\n",
       "      <td>-5.108477e-17</td>\n",
       "      <td>0.002825</td>\n",
       "      <td>0.148790</td>\n",
       "      <td>1.540755e-01</td>\n",
       "      <td>2.767458e-01</td>\n",
       "      <td>-7.345862e-01</td>\n",
       "      <td>-6.855088e-01</td>\n",
       "    </tr>\n",
       "    <tr>\n",
       "      <th>765</th>\n",
       "      <td>-8.452267e-01</td>\n",
       "      <td>0.159432</td>\n",
       "      <td>-0.470909</td>\n",
       "      <td>-1.195848e-16</td>\n",
       "      <td>-6.946421e-01</td>\n",
       "      <td>-2.404844e-01</td>\n",
       "      <td>-3.716203e-01</td>\n",
       "    </tr>\n",
       "  </tbody>\n",
       "</table>\n",
       "<p>766 rows × 7 columns</p>\n",
       "</div>"
      ],
      "text/plain": [
       "               f1        f2        f3            f4            f5  \\\n",
       "0    6.377972e-01  0.848503  0.148790  9.064228e-01 -6.946421e-01   \n",
       "1   -8.452267e-01 -1.124745 -0.161060  5.302491e-01 -6.946421e-01   \n",
       "2    1.231007e+00  1.944752 -0.264343 -1.287924e+00 -6.946421e-01   \n",
       "3   -8.452267e-01 -0.999460 -0.161060  1.540755e-01  1.206299e-01   \n",
       "4   -1.141831e+00  0.503967 -1.503740  9.064228e-01  7.624397e-01   \n",
       "..            ...       ...       ...           ...           ...   \n",
       "761  1.527612e+00 -0.999460 -0.367626 -1.287924e+00 -6.946421e-01   \n",
       "762  1.824216e+00 -0.623603  0.355356  1.721466e+00  8.665170e-01   \n",
       "763 -5.486219e-01  0.034146  0.045507  4.048579e-01 -5.166528e-17   \n",
       "764 -5.108477e-17  0.002825  0.148790  1.540755e-01  2.767458e-01   \n",
       "765 -8.452267e-01  0.159432 -0.470909 -1.195848e-16 -6.946421e-01   \n",
       "\n",
       "               f6            f7  \n",
       "0    2.029403e-01  4.674281e-01  \n",
       "1   -6.839090e-01 -3.655839e-01  \n",
       "2   -1.101995e+00  6.032453e-01  \n",
       "3   -4.938699e-01 -9.209253e-01  \n",
       "4    1.406521e+00  5.480591e+00  \n",
       "..            ...           ...  \n",
       "761 -1.203349e+00 -3.018646e-17  \n",
       "762  7.894919e-17 -9.088527e-01  \n",
       "763  6.083571e-01 -3.987837e-01  \n",
       "764 -7.345862e-01 -6.855088e-01  \n",
       "765 -2.404844e-01 -3.716203e-01  \n",
       "\n",
       "[766 rows x 7 columns]"
      ]
     },
     "execution_count": 27,
     "metadata": {},
     "output_type": "execute_result"
    }
   ],
   "source": [
    "X"
   ]
  },
  {
   "cell_type": "code",
   "execution_count": 28,
   "id": "0f7101bd-5da9-4510-9d5f-81d2bb7ddfa1",
   "metadata": {
    "tags": []
   },
   "outputs": [],
   "source": [
    "# split the dataframe, Train 85% Test 15%\n",
    "X_train, X_test, y_train, y_test = train_test_split(X, y, test_size=0.15, random_state=42, stratify=y)\n",
    "\n",
    "#splitting training set into (82.35%) and validation (17.65%),, this makes 70-15-15 ratio of original set\n",
    "X_train, X_val, y_train, y_val = train_test_split(X_train, y_train, test_size=0.176, random_state=42, stratify=y_train)\n"
   ]
  },
  {
   "cell_type": "code",
   "execution_count": 29,
   "id": "430132e0-89f6-433b-9c78-5ac2b21ff8c3",
   "metadata": {
    "tags": []
   },
   "outputs": [
    {
     "name": "stdout",
     "output_type": "stream",
     "text": [
      "Training shape: \t (536,)\n",
      "Validation shape: \t (115,)\n",
      "Teesting shape: \t (115,)\n"
     ]
    }
   ],
   "source": [
    "print(f\"Training shape: \\t\", y_train.shape)\n",
    "print(f\"Validation shape: \\t\", y_val.shape)\n",
    "print(f\"Teesting shape: \\t\", y_test.shape)"
   ]
  },
  {
   "cell_type": "code",
   "execution_count": 30,
   "id": "3f08dcb3-ca80-4577-bd3e-05c191a06b90",
   "metadata": {
    "tags": []
   },
   "outputs": [],
   "source": [
    "# conversion to tensors\n",
    "X_train_tensor = torch.tensor(X_train.values, dtype=torch.float32)\n",
    "X_val_tensor = torch.tensor(X_val.values, dtype=torch.float32)\n",
    "X_test_tensor = torch.tensor(X_test.values, dtype=torch.float32)"
   ]
  },
  {
   "cell_type": "code",
   "execution_count": 31,
   "id": "bf0f5ad6-706a-4e0a-a869-1435692c8000",
   "metadata": {
    "tags": []
   },
   "outputs": [],
   "source": [
    "y_train_tensor = torch.tensor(y_train.values, dtype=torch.float32)\n",
    "y_val_tensor = torch.tensor(y_val.values, dtype=torch.float32)\n",
    "y_test_tensor = torch.tensor(y_test.values, dtype=torch.float32)\n"
   ]
  },
  {
   "cell_type": "code",
   "execution_count": 32,
   "id": "a39a9569-01fa-49de-baeb-ad765263d978",
   "metadata": {
    "tags": []
   },
   "outputs": [
    {
     "name": "stdout",
     "output_type": "stream",
     "text": [
      "Type of X_train_tensor:  <class 'torch.Tensor'>\n",
      "Type of y_train_tensor:  <class 'torch.Tensor'>\n"
     ]
    }
   ],
   "source": [
    "print(f\"Type of X_train_tensor: \",type(X_train_tensor))\n",
    "print(f\"Type of y_train_tensor: \",type(X_train_tensor))\n",
    "\n"
   ]
  },
  {
   "cell_type": "code",
   "execution_count": 33,
   "id": "641696c0-c2dd-4f81-a2bf-74e9439cbe29",
   "metadata": {
    "tags": []
   },
   "outputs": [
    {
     "name": "stdout",
     "output_type": "stream",
     "text": [
      "Type of X_val_tensor:  <class 'torch.Tensor'>\n",
      "Type of y_val_tensor:  <class 'torch.Tensor'>\n"
     ]
    }
   ],
   "source": [
    "print(f\"Type of X_val_tensor: \",type(X_train_tensor))\n",
    "print(f\"Type of y_val_tensor: \",type(X_train_tensor))\n"
   ]
  },
  {
   "cell_type": "code",
   "execution_count": 34,
   "id": "d48dfdd9-d946-43d3-8420-8caf0766de9f",
   "metadata": {
    "tags": []
   },
   "outputs": [
    {
     "name": "stdout",
     "output_type": "stream",
     "text": [
      "Type of X_test_tensor:  <class 'torch.Tensor'>\n",
      "Type of y_test_tensor:  <class 'torch.Tensor'>\n"
     ]
    }
   ],
   "source": [
    "print(f\"Type of X_test_tensor: \",type(X_train_tensor))\n",
    "print(f\"Type of y_test_tensor: \",type(X_train_tensor))\n"
   ]
  },
  {
   "cell_type": "code",
   "execution_count": 35,
   "id": "2500d149-35ab-44fe-920a-2e502c691417",
   "metadata": {},
   "outputs": [],
   "source": [
    "# they are all tensors now."
   ]
  },
  {
   "cell_type": "markdown",
   "id": "abaeae19-6784-42b6-8b8f-5b1320e7a446",
   "metadata": {},
   "source": [
    "---"
   ]
  },
  {
   "cell_type": "markdown",
   "id": "4a73db72-5cc5-4d75-9361-c841fbb397f4",
   "metadata": {},
   "source": [
    "# STEP 3"
   ]
  },
  {
   "cell_type": "code",
   "execution_count": 44,
   "id": "c488a763-e724-4fcb-98a6-d72b778d069b",
   "metadata": {
    "tags": []
   },
   "outputs": [],
   "source": [
    "class NeuralNetwork(nn.Module):\n",
    "    def __init__(self, input_features, hidden_size, num_classes):\n",
    "        super(NeuralNetwork, self).__init__()\n",
    "        self.fc1 = nn.Linear(input_features, hidden_size)\n",
    "        self.fc2 = nn.Linear(hidden_size, hidden_size)\n",
    "        self.fc3 = nn.Linear(hidden_size, num_classes)\n",
    "        self.dropout = nn.Dropout(0.5)\n",
    "    def forward(self, x):\n",
    "        x = F.relu(self.fc1(x))  \n",
    "        x = F.relu(self.fc2(x))  \n",
    "        x = torch.sigmoid(self.fc3(x))          \n",
    "        return x\n"
   ]
  },
  {
   "cell_type": "code",
   "execution_count": 45,
   "id": "3f392d6f-caaf-4c49-808b-877df39be4d9",
   "metadata": {
    "tags": []
   },
   "outputs": [],
   "source": [
    "input_features = X_train.shape[1]\n",
    "hidden_size = 128"
   ]
  },
  {
   "cell_type": "code",
   "execution_count": 46,
   "id": "c306656a-c039-4ad3-94ae-c67d056f9078",
   "metadata": {
    "tags": []
   },
   "outputs": [
    {
     "data": {
      "text/plain": [
       "==========================================================================================\n",
       "Layer (type:depth-idx)                   Output Shape              Param #\n",
       "==========================================================================================\n",
       "NeuralNetwork                            [1, 1]                    --\n",
       "├─Linear: 1-1                            [1, 128]                  1,024\n",
       "├─Linear: 1-2                            [1, 128]                  16,512\n",
       "├─Linear: 1-3                            [1, 1]                    129\n",
       "==========================================================================================\n",
       "Total params: 17,665\n",
       "Trainable params: 17,665\n",
       "Non-trainable params: 0\n",
       "Total mult-adds (Units.MEGABYTES): 0.02\n",
       "==========================================================================================\n",
       "Input size (MB): 0.00\n",
       "Forward/backward pass size (MB): 0.00\n",
       "Params size (MB): 0.07\n",
       "Estimated Total Size (MB): 0.07\n",
       "=========================================================================================="
      ]
     },
     "execution_count": 46,
     "metadata": {},
     "output_type": "execute_result"
    }
   ],
   "source": [
    "net = NeuralNetwork(input_features, hidden_size, 1).to(device)\n",
    "summary(net, input_size=(1, input_features))"
   ]
  },
  {
   "cell_type": "markdown",
   "id": "eee98731-5df3-4ead-9065-1116b2043ce0",
   "metadata": {},
   "source": [
    "---"
   ]
  },
  {
   "cell_type": "markdown",
   "id": "27e1677e-1c88-4349-8190-eff580fa7238",
   "metadata": {},
   "source": [
    "# STEP 4"
   ]
  },
  {
   "cell_type": "code",
   "execution_count": null,
   "id": "c1450dde-4822-4c4c-8a23-dbccada3a01f",
   "metadata": {},
   "outputs": [],
   "source": []
  }
 ],
 "metadata": {
  "kernelspec": {
   "display_name": "Python 3 (ipykernel)",
   "language": "python",
   "name": "python3"
  },
  "language_info": {
   "codemirror_mode": {
    "name": "ipython",
    "version": 3
   },
   "file_extension": ".py",
   "mimetype": "text/x-python",
   "name": "python",
   "nbconvert_exporter": "python",
   "pygments_lexer": "ipython3",
   "version": "3.11.5"
  }
 },
 "nbformat": 4,
 "nbformat_minor": 5
}
